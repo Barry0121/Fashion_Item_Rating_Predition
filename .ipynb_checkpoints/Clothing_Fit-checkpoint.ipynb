{
 "cells": [
  {
   "cell_type": "code",
   "execution_count": 1,
   "id": "29659587",
   "metadata": {},
   "outputs": [],
   "source": [
    "import gzip\n",
    "from collections import defaultdict\n",
    "import string\n",
    "import pandas as pd\n",
    "import numpy as np\n",
    "import json\n",
    "import demjson # Json parser\n",
    "import math"
   ]
  },
  {
   "cell_type": "code",
   "execution_count": 2,
   "id": "bc2afa09",
   "metadata": {},
   "outputs": [],
   "source": [
    "def readData(path):\n",
    "    x = gzip.open(path)\n",
    "    for l in x:\n",
    "        yield eval(l)"
   ]
  },
  {
   "cell_type": "code",
   "execution_count": 3,
   "id": "d71b63dd",
   "metadata": {},
   "outputs": [],
   "source": [
    "def readDataDemJson(path):\n",
    "    x = gzip.open(path)\n",
    "    for l in x:\n",
    "        yield demjson.decode(l)"
   ]
  },
  {
   "cell_type": "markdown",
   "id": "cccee861",
   "metadata": {},
   "source": [
    "## ModCloth"
   ]
  },
  {
   "cell_type": "code",
   "execution_count": 750,
   "id": "bc9128da",
   "metadata": {},
   "outputs": [],
   "source": [
    "mod_cloth_data = []\n",
    "for d in readData(\"modcloth_final_data.json.gz\"):\n",
    "    mod_cloth_data.append(d)"
   ]
  },
  {
   "cell_type": "code",
   "execution_count": 751,
   "id": "28a49205",
   "metadata": {},
   "outputs": [
    {
     "data": {
      "text/html": [
       "<div>\n",
       "<style scoped>\n",
       "    .dataframe tbody tr th:only-of-type {\n",
       "        vertical-align: middle;\n",
       "    }\n",
       "\n",
       "    .dataframe tbody tr th {\n",
       "        vertical-align: top;\n",
       "    }\n",
       "\n",
       "    .dataframe thead th {\n",
       "        text-align: right;\n",
       "    }\n",
       "</style>\n",
       "<table border=\"1\" class=\"dataframe\">\n",
       "  <thead>\n",
       "    <tr style=\"text-align: right;\">\n",
       "      <th></th>\n",
       "      <th>item_id</th>\n",
       "      <th>waist</th>\n",
       "      <th>size</th>\n",
       "      <th>quality</th>\n",
       "      <th>cup size</th>\n",
       "      <th>hips</th>\n",
       "      <th>bra size</th>\n",
       "      <th>category</th>\n",
       "      <th>bust</th>\n",
       "      <th>height</th>\n",
       "      <th>user_name</th>\n",
       "      <th>length</th>\n",
       "      <th>fit</th>\n",
       "      <th>user_id</th>\n",
       "      <th>shoe size</th>\n",
       "      <th>shoe width</th>\n",
       "      <th>review_summary</th>\n",
       "      <th>review_text</th>\n",
       "    </tr>\n",
       "  </thead>\n",
       "  <tbody>\n",
       "    <tr>\n",
       "      <th>0</th>\n",
       "      <td>123373</td>\n",
       "      <td>29</td>\n",
       "      <td>7</td>\n",
       "      <td>5.0</td>\n",
       "      <td>d</td>\n",
       "      <td>38</td>\n",
       "      <td>34</td>\n",
       "      <td>new</td>\n",
       "      <td>36</td>\n",
       "      <td>5ft 6in</td>\n",
       "      <td>Emily</td>\n",
       "      <td>just right</td>\n",
       "      <td>small</td>\n",
       "      <td>991571</td>\n",
       "      <td>NaN</td>\n",
       "      <td>NaN</td>\n",
       "      <td>NaN</td>\n",
       "      <td>NaN</td>\n",
       "    </tr>\n",
       "    <tr>\n",
       "      <th>1</th>\n",
       "      <td>123373</td>\n",
       "      <td>31</td>\n",
       "      <td>13</td>\n",
       "      <td>3.0</td>\n",
       "      <td>b</td>\n",
       "      <td>30</td>\n",
       "      <td>36</td>\n",
       "      <td>new</td>\n",
       "      <td>NaN</td>\n",
       "      <td>5ft 2in</td>\n",
       "      <td>sydneybraden2001</td>\n",
       "      <td>just right</td>\n",
       "      <td>small</td>\n",
       "      <td>587883</td>\n",
       "      <td>NaN</td>\n",
       "      <td>NaN</td>\n",
       "      <td>NaN</td>\n",
       "      <td>NaN</td>\n",
       "    </tr>\n",
       "    <tr>\n",
       "      <th>2</th>\n",
       "      <td>123373</td>\n",
       "      <td>30</td>\n",
       "      <td>7</td>\n",
       "      <td>2.0</td>\n",
       "      <td>b</td>\n",
       "      <td>NaN</td>\n",
       "      <td>32</td>\n",
       "      <td>new</td>\n",
       "      <td>NaN</td>\n",
       "      <td>5ft 7in</td>\n",
       "      <td>Ugggh</td>\n",
       "      <td>slightly long</td>\n",
       "      <td>small</td>\n",
       "      <td>395665</td>\n",
       "      <td>9.00</td>\n",
       "      <td>NaN</td>\n",
       "      <td>NaN</td>\n",
       "      <td>NaN</td>\n",
       "    </tr>\n",
       "    <tr>\n",
       "      <th>3</th>\n",
       "      <td>123373</td>\n",
       "      <td>NaN</td>\n",
       "      <td>21</td>\n",
       "      <td>5.0</td>\n",
       "      <td>dd/e</td>\n",
       "      <td>NaN</td>\n",
       "      <td>NaN</td>\n",
       "      <td>new</td>\n",
       "      <td>NaN</td>\n",
       "      <td>NaN</td>\n",
       "      <td>alexmeyer626</td>\n",
       "      <td>just right</td>\n",
       "      <td>fit</td>\n",
       "      <td>875643</td>\n",
       "      <td>NaN</td>\n",
       "      <td>NaN</td>\n",
       "      <td>NaN</td>\n",
       "      <td>NaN</td>\n",
       "    </tr>\n",
       "    <tr>\n",
       "      <th>4</th>\n",
       "      <td>123373</td>\n",
       "      <td>NaN</td>\n",
       "      <td>18</td>\n",
       "      <td>5.0</td>\n",
       "      <td>b</td>\n",
       "      <td>NaN</td>\n",
       "      <td>36</td>\n",
       "      <td>new</td>\n",
       "      <td>NaN</td>\n",
       "      <td>5ft 2in</td>\n",
       "      <td>dberrones1</td>\n",
       "      <td>slightly long</td>\n",
       "      <td>small</td>\n",
       "      <td>944840</td>\n",
       "      <td>NaN</td>\n",
       "      <td>NaN</td>\n",
       "      <td>NaN</td>\n",
       "      <td>NaN</td>\n",
       "    </tr>\n",
       "    <tr>\n",
       "      <th>...</th>\n",
       "      <td>...</td>\n",
       "      <td>...</td>\n",
       "      <td>...</td>\n",
       "      <td>...</td>\n",
       "      <td>...</td>\n",
       "      <td>...</td>\n",
       "      <td>...</td>\n",
       "      <td>...</td>\n",
       "      <td>...</td>\n",
       "      <td>...</td>\n",
       "      <td>...</td>\n",
       "      <td>...</td>\n",
       "      <td>...</td>\n",
       "      <td>...</td>\n",
       "      <td>...</td>\n",
       "      <td>...</td>\n",
       "      <td>...</td>\n",
       "      <td>...</td>\n",
       "    </tr>\n",
       "    <tr>\n",
       "      <th>82785</th>\n",
       "      <td>807722</td>\n",
       "      <td>NaN</td>\n",
       "      <td>8</td>\n",
       "      <td>4.0</td>\n",
       "      <td>b</td>\n",
       "      <td>NaN</td>\n",
       "      <td>36</td>\n",
       "      <td>outerwear</td>\n",
       "      <td>NaN</td>\n",
       "      <td>5ft 8in</td>\n",
       "      <td>Jennifer</td>\n",
       "      <td>just right</td>\n",
       "      <td>fit</td>\n",
       "      <td>727820</td>\n",
       "      <td>8.50</td>\n",
       "      <td>average</td>\n",
       "      <td>Cute jacket!</td>\n",
       "      <td>Cute jacket!</td>\n",
       "    </tr>\n",
       "    <tr>\n",
       "      <th>82786</th>\n",
       "      <td>807722</td>\n",
       "      <td>NaN</td>\n",
       "      <td>12</td>\n",
       "      <td>5.0</td>\n",
       "      <td>ddd/f</td>\n",
       "      <td>NaN</td>\n",
       "      <td>34</td>\n",
       "      <td>outerwear</td>\n",
       "      <td>NaN</td>\n",
       "      <td>5ft 5in</td>\n",
       "      <td>Kelli</td>\n",
       "      <td>slightly long</td>\n",
       "      <td>small</td>\n",
       "      <td>197040</td>\n",
       "      <td>NaN</td>\n",
       "      <td>NaN</td>\n",
       "      <td>It's a beautiful jacket.</td>\n",
       "      <td>It's a beautiful jacket. I love how it's knit ...</td>\n",
       "    </tr>\n",
       "    <tr>\n",
       "      <th>82787</th>\n",
       "      <td>807722</td>\n",
       "      <td>NaN</td>\n",
       "      <td>12</td>\n",
       "      <td>5.0</td>\n",
       "      <td>dddd/g</td>\n",
       "      <td>36.0</td>\n",
       "      <td>32</td>\n",
       "      <td>outerwear</td>\n",
       "      <td>NaN</td>\n",
       "      <td>5ft 4in</td>\n",
       "      <td>elacount</td>\n",
       "      <td>just right</td>\n",
       "      <td>fit</td>\n",
       "      <td>102493</td>\n",
       "      <td>NaN</td>\n",
       "      <td>NaN</td>\n",
       "      <td>I love this blazer. It is</td>\n",
       "      <td>I love this blazer. It is a great office piece...</td>\n",
       "    </tr>\n",
       "    <tr>\n",
       "      <th>82788</th>\n",
       "      <td>807722</td>\n",
       "      <td>NaN</td>\n",
       "      <td>12</td>\n",
       "      <td>4.0</td>\n",
       "      <td>NaN</td>\n",
       "      <td>NaN</td>\n",
       "      <td>NaN</td>\n",
       "      <td>outerwear</td>\n",
       "      <td>NaN</td>\n",
       "      <td>5ft 3in</td>\n",
       "      <td>jennaklinner</td>\n",
       "      <td>just right</td>\n",
       "      <td>fit</td>\n",
       "      <td>756491</td>\n",
       "      <td>NaN</td>\n",
       "      <td>NaN</td>\n",
       "      <td>I love this blazer!! I wo</td>\n",
       "      <td>I love this blazer!! I wore it yesterday and g...</td>\n",
       "    </tr>\n",
       "    <tr>\n",
       "      <th>82789</th>\n",
       "      <td>807722</td>\n",
       "      <td>NaN</td>\n",
       "      <td>4</td>\n",
       "      <td>4.0</td>\n",
       "      <td>d</td>\n",
       "      <td>39.0</td>\n",
       "      <td>32</td>\n",
       "      <td>outerwear</td>\n",
       "      <td>NaN</td>\n",
       "      <td>6ft</td>\n",
       "      <td>maireadsteadman</td>\n",
       "      <td>just right</td>\n",
       "      <td>fit</td>\n",
       "      <td>78305</td>\n",
       "      <td>NaN</td>\n",
       "      <td>NaN</td>\n",
       "      <td>I love this piece. I'm re</td>\n",
       "      <td>I love this piece. I'm really happy with it!</td>\n",
       "    </tr>\n",
       "  </tbody>\n",
       "</table>\n",
       "<p>82790 rows × 18 columns</p>\n",
       "</div>"
      ],
      "text/plain": [
       "      item_id waist  size  quality cup size  hips bra size   category bust  \\\n",
       "0      123373    29     7      5.0        d    38       34        new   36   \n",
       "1      123373    31    13      3.0        b    30       36        new  NaN   \n",
       "2      123373    30     7      2.0        b   NaN       32        new  NaN   \n",
       "3      123373   NaN    21      5.0     dd/e   NaN      NaN        new  NaN   \n",
       "4      123373   NaN    18      5.0        b   NaN       36        new  NaN   \n",
       "...       ...   ...   ...      ...      ...   ...      ...        ...  ...   \n",
       "82785  807722   NaN     8      4.0        b   NaN       36  outerwear  NaN   \n",
       "82786  807722   NaN    12      5.0    ddd/f   NaN       34  outerwear  NaN   \n",
       "82787  807722   NaN    12      5.0   dddd/g  36.0       32  outerwear  NaN   \n",
       "82788  807722   NaN    12      4.0      NaN   NaN      NaN  outerwear  NaN   \n",
       "82789  807722   NaN     4      4.0        d  39.0       32  outerwear  NaN   \n",
       "\n",
       "        height         user_name         length    fit user_id shoe size  \\\n",
       "0      5ft 6in             Emily     just right  small  991571       NaN   \n",
       "1      5ft 2in  sydneybraden2001     just right  small  587883       NaN   \n",
       "2      5ft 7in             Ugggh  slightly long  small  395665      9.00   \n",
       "3          NaN      alexmeyer626     just right    fit  875643       NaN   \n",
       "4      5ft 2in        dberrones1  slightly long  small  944840       NaN   \n",
       "...        ...               ...            ...    ...     ...       ...   \n",
       "82785  5ft 8in          Jennifer     just right    fit  727820      8.50   \n",
       "82786  5ft 5in             Kelli  slightly long  small  197040       NaN   \n",
       "82787  5ft 4in          elacount     just right    fit  102493       NaN   \n",
       "82788  5ft 3in      jennaklinner     just right    fit  756491       NaN   \n",
       "82789      6ft   maireadsteadman     just right    fit   78305       NaN   \n",
       "\n",
       "      shoe width             review_summary  \\\n",
       "0            NaN                        NaN   \n",
       "1            NaN                        NaN   \n",
       "2            NaN                        NaN   \n",
       "3            NaN                        NaN   \n",
       "4            NaN                        NaN   \n",
       "...          ...                        ...   \n",
       "82785    average               Cute jacket!   \n",
       "82786        NaN   It's a beautiful jacket.   \n",
       "82787        NaN  I love this blazer. It is   \n",
       "82788        NaN  I love this blazer!! I wo   \n",
       "82789        NaN  I love this piece. I'm re   \n",
       "\n",
       "                                             review_text  \n",
       "0                                                    NaN  \n",
       "1                                                    NaN  \n",
       "2                                                    NaN  \n",
       "3                                                    NaN  \n",
       "4                                                    NaN  \n",
       "...                                                  ...  \n",
       "82785                                       Cute jacket!  \n",
       "82786  It's a beautiful jacket. I love how it's knit ...  \n",
       "82787  I love this blazer. It is a great office piece...  \n",
       "82788  I love this blazer!! I wore it yesterday and g...  \n",
       "82789       I love this piece. I'm really happy with it!  \n",
       "\n",
       "[82790 rows x 18 columns]"
      ]
     },
     "execution_count": 751,
     "metadata": {},
     "output_type": "execute_result"
    }
   ],
   "source": [
    "df_1 = pd.DataFrame(mod_cloth_data)\n",
    "df_1"
   ]
  },
  {
   "cell_type": "code",
   "execution_count": 752,
   "id": "a0ae6865",
   "metadata": {},
   "outputs": [
    {
     "name": "stdout",
     "output_type": "stream",
     "text": [
      "['fit', 'large', 'small']\n"
     ]
    }
   ],
   "source": [
    "a = df_1['fit'].unique()\n",
    "print(sorted(a))"
   ]
  },
  {
   "cell_type": "code",
   "execution_count": 753,
   "id": "ba069645",
   "metadata": {},
   "outputs": [
    {
     "data": {
      "text/html": [
       "<div>\n",
       "<style scoped>\n",
       "    .dataframe tbody tr th:only-of-type {\n",
       "        vertical-align: middle;\n",
       "    }\n",
       "\n",
       "    .dataframe tbody tr th {\n",
       "        vertical-align: top;\n",
       "    }\n",
       "\n",
       "    .dataframe thead th {\n",
       "        text-align: right;\n",
       "    }\n",
       "</style>\n",
       "<table border=\"1\" class=\"dataframe\">\n",
       "  <thead>\n",
       "    <tr style=\"text-align: right;\">\n",
       "      <th></th>\n",
       "      <th>item_id</th>\n",
       "      <th>waist</th>\n",
       "      <th>size</th>\n",
       "      <th>quality</th>\n",
       "      <th>cup size</th>\n",
       "      <th>hips</th>\n",
       "      <th>bra size</th>\n",
       "      <th>category</th>\n",
       "      <th>bust</th>\n",
       "      <th>height</th>\n",
       "      <th>user_name</th>\n",
       "      <th>length</th>\n",
       "      <th>fit</th>\n",
       "      <th>user_id</th>\n",
       "      <th>shoe size</th>\n",
       "      <th>shoe width</th>\n",
       "      <th>review_summary</th>\n",
       "      <th>review_text</th>\n",
       "    </tr>\n",
       "  </thead>\n",
       "  <tbody>\n",
       "    <tr>\n",
       "      <th>3</th>\n",
       "      <td>123373</td>\n",
       "      <td>NaN</td>\n",
       "      <td>21</td>\n",
       "      <td>5.0</td>\n",
       "      <td>dd/e</td>\n",
       "      <td>NaN</td>\n",
       "      <td>NaN</td>\n",
       "      <td>new</td>\n",
       "      <td>NaN</td>\n",
       "      <td>NaN</td>\n",
       "      <td>alexmeyer626</td>\n",
       "      <td>just right</td>\n",
       "      <td>fit</td>\n",
       "      <td>875643</td>\n",
       "      <td>NaN</td>\n",
       "      <td>NaN</td>\n",
       "      <td>NaN</td>\n",
       "      <td>NaN</td>\n",
       "    </tr>\n",
       "    <tr>\n",
       "      <th>9</th>\n",
       "      <td>123373</td>\n",
       "      <td>NaN</td>\n",
       "      <td>13</td>\n",
       "      <td>5.0</td>\n",
       "      <td>dd/e</td>\n",
       "      <td>41.0</td>\n",
       "      <td>36</td>\n",
       "      <td>new</td>\n",
       "      <td>39</td>\n",
       "      <td>5ft 6in</td>\n",
       "      <td>laurenpolzin</td>\n",
       "      <td>just right</td>\n",
       "      <td>fit</td>\n",
       "      <td>950172</td>\n",
       "      <td>9.00</td>\n",
       "      <td>NaN</td>\n",
       "      <td>NaN</td>\n",
       "      <td>NaN</td>\n",
       "    </tr>\n",
       "    <tr>\n",
       "      <th>12</th>\n",
       "      <td>123373</td>\n",
       "      <td>NaN</td>\n",
       "      <td>5</td>\n",
       "      <td>5.0</td>\n",
       "      <td>c</td>\n",
       "      <td>NaN</td>\n",
       "      <td>34</td>\n",
       "      <td>new</td>\n",
       "      <td>NaN</td>\n",
       "      <td>5ft 5in</td>\n",
       "      <td>kmj11492</td>\n",
       "      <td>just right</td>\n",
       "      <td>fit</td>\n",
       "      <td>42840</td>\n",
       "      <td>NaN</td>\n",
       "      <td>NaN</td>\n",
       "      <td>NaN</td>\n",
       "      <td>NaN</td>\n",
       "    </tr>\n",
       "    <tr>\n",
       "      <th>13</th>\n",
       "      <td>123373</td>\n",
       "      <td>NaN</td>\n",
       "      <td>7</td>\n",
       "      <td>4.0</td>\n",
       "      <td>dd/e</td>\n",
       "      <td>NaN</td>\n",
       "      <td>34</td>\n",
       "      <td>new</td>\n",
       "      <td>NaN</td>\n",
       "      <td>5ft 5in</td>\n",
       "      <td>katherineoliviaman</td>\n",
       "      <td>just right</td>\n",
       "      <td>fit</td>\n",
       "      <td>767255</td>\n",
       "      <td>NaN</td>\n",
       "      <td>NaN</td>\n",
       "      <td>NaN</td>\n",
       "      <td>NaN</td>\n",
       "    </tr>\n",
       "    <tr>\n",
       "      <th>14</th>\n",
       "      <td>123373</td>\n",
       "      <td>NaN</td>\n",
       "      <td>3</td>\n",
       "      <td>5.0</td>\n",
       "      <td>b</td>\n",
       "      <td>36.0</td>\n",
       "      <td>34</td>\n",
       "      <td>new</td>\n",
       "      <td>NaN</td>\n",
       "      <td>5ft 3in</td>\n",
       "      <td>stacy233</td>\n",
       "      <td>just right</td>\n",
       "      <td>fit</td>\n",
       "      <td>510154</td>\n",
       "      <td>NaN</td>\n",
       "      <td>NaN</td>\n",
       "      <td>NaN</td>\n",
       "      <td>NaN</td>\n",
       "    </tr>\n",
       "    <tr>\n",
       "      <th>...</th>\n",
       "      <td>...</td>\n",
       "      <td>...</td>\n",
       "      <td>...</td>\n",
       "      <td>...</td>\n",
       "      <td>...</td>\n",
       "      <td>...</td>\n",
       "      <td>...</td>\n",
       "      <td>...</td>\n",
       "      <td>...</td>\n",
       "      <td>...</td>\n",
       "      <td>...</td>\n",
       "      <td>...</td>\n",
       "      <td>...</td>\n",
       "      <td>...</td>\n",
       "      <td>...</td>\n",
       "      <td>...</td>\n",
       "      <td>...</td>\n",
       "      <td>...</td>\n",
       "    </tr>\n",
       "    <tr>\n",
       "      <th>82783</th>\n",
       "      <td>807722</td>\n",
       "      <td>NaN</td>\n",
       "      <td>4</td>\n",
       "      <td>5.0</td>\n",
       "      <td>b</td>\n",
       "      <td>34.0</td>\n",
       "      <td>32</td>\n",
       "      <td>outerwear</td>\n",
       "      <td>NaN</td>\n",
       "      <td>5ft 2in</td>\n",
       "      <td>helenag9</td>\n",
       "      <td>just right</td>\n",
       "      <td>fit</td>\n",
       "      <td>432480</td>\n",
       "      <td>6.00</td>\n",
       "      <td>NaN</td>\n",
       "      <td>I was surprised by the ve</td>\n",
       "      <td>I was surprised by the very good quality of th...</td>\n",
       "    </tr>\n",
       "    <tr>\n",
       "      <th>82785</th>\n",
       "      <td>807722</td>\n",
       "      <td>NaN</td>\n",
       "      <td>8</td>\n",
       "      <td>4.0</td>\n",
       "      <td>b</td>\n",
       "      <td>NaN</td>\n",
       "      <td>36</td>\n",
       "      <td>outerwear</td>\n",
       "      <td>NaN</td>\n",
       "      <td>5ft 8in</td>\n",
       "      <td>Jennifer</td>\n",
       "      <td>just right</td>\n",
       "      <td>fit</td>\n",
       "      <td>727820</td>\n",
       "      <td>8.50</td>\n",
       "      <td>average</td>\n",
       "      <td>Cute jacket!</td>\n",
       "      <td>Cute jacket!</td>\n",
       "    </tr>\n",
       "    <tr>\n",
       "      <th>82787</th>\n",
       "      <td>807722</td>\n",
       "      <td>NaN</td>\n",
       "      <td>12</td>\n",
       "      <td>5.0</td>\n",
       "      <td>dddd/g</td>\n",
       "      <td>36.0</td>\n",
       "      <td>32</td>\n",
       "      <td>outerwear</td>\n",
       "      <td>NaN</td>\n",
       "      <td>5ft 4in</td>\n",
       "      <td>elacount</td>\n",
       "      <td>just right</td>\n",
       "      <td>fit</td>\n",
       "      <td>102493</td>\n",
       "      <td>NaN</td>\n",
       "      <td>NaN</td>\n",
       "      <td>I love this blazer. It is</td>\n",
       "      <td>I love this blazer. It is a great office piece...</td>\n",
       "    </tr>\n",
       "    <tr>\n",
       "      <th>82788</th>\n",
       "      <td>807722</td>\n",
       "      <td>NaN</td>\n",
       "      <td>12</td>\n",
       "      <td>4.0</td>\n",
       "      <td>NaN</td>\n",
       "      <td>NaN</td>\n",
       "      <td>NaN</td>\n",
       "      <td>outerwear</td>\n",
       "      <td>NaN</td>\n",
       "      <td>5ft 3in</td>\n",
       "      <td>jennaklinner</td>\n",
       "      <td>just right</td>\n",
       "      <td>fit</td>\n",
       "      <td>756491</td>\n",
       "      <td>NaN</td>\n",
       "      <td>NaN</td>\n",
       "      <td>I love this blazer!! I wo</td>\n",
       "      <td>I love this blazer!! I wore it yesterday and g...</td>\n",
       "    </tr>\n",
       "    <tr>\n",
       "      <th>82789</th>\n",
       "      <td>807722</td>\n",
       "      <td>NaN</td>\n",
       "      <td>4</td>\n",
       "      <td>4.0</td>\n",
       "      <td>d</td>\n",
       "      <td>39.0</td>\n",
       "      <td>32</td>\n",
       "      <td>outerwear</td>\n",
       "      <td>NaN</td>\n",
       "      <td>6ft</td>\n",
       "      <td>maireadsteadman</td>\n",
       "      <td>just right</td>\n",
       "      <td>fit</td>\n",
       "      <td>78305</td>\n",
       "      <td>NaN</td>\n",
       "      <td>NaN</td>\n",
       "      <td>I love this piece. I'm re</td>\n",
       "      <td>I love this piece. I'm really happy with it!</td>\n",
       "    </tr>\n",
       "  </tbody>\n",
       "</table>\n",
       "<p>56757 rows × 18 columns</p>\n",
       "</div>"
      ],
      "text/plain": [
       "      item_id waist  size  quality cup size  hips bra size   category bust  \\\n",
       "3      123373   NaN    21      5.0     dd/e   NaN      NaN        new  NaN   \n",
       "9      123373   NaN    13      5.0     dd/e  41.0       36        new   39   \n",
       "12     123373   NaN     5      5.0        c   NaN       34        new  NaN   \n",
       "13     123373   NaN     7      4.0     dd/e   NaN       34        new  NaN   \n",
       "14     123373   NaN     3      5.0        b  36.0       34        new  NaN   \n",
       "...       ...   ...   ...      ...      ...   ...      ...        ...  ...   \n",
       "82783  807722   NaN     4      5.0        b  34.0       32  outerwear  NaN   \n",
       "82785  807722   NaN     8      4.0        b   NaN       36  outerwear  NaN   \n",
       "82787  807722   NaN    12      5.0   dddd/g  36.0       32  outerwear  NaN   \n",
       "82788  807722   NaN    12      4.0      NaN   NaN      NaN  outerwear  NaN   \n",
       "82789  807722   NaN     4      4.0        d  39.0       32  outerwear  NaN   \n",
       "\n",
       "        height           user_name      length  fit user_id shoe size  \\\n",
       "3          NaN        alexmeyer626  just right  fit  875643       NaN   \n",
       "9      5ft 6in        laurenpolzin  just right  fit  950172      9.00   \n",
       "12     5ft 5in            kmj11492  just right  fit   42840       NaN   \n",
       "13     5ft 5in  katherineoliviaman  just right  fit  767255       NaN   \n",
       "14     5ft 3in            stacy233  just right  fit  510154       NaN   \n",
       "...        ...                 ...         ...  ...     ...       ...   \n",
       "82783  5ft 2in            helenag9  just right  fit  432480      6.00   \n",
       "82785  5ft 8in            Jennifer  just right  fit  727820      8.50   \n",
       "82787  5ft 4in            elacount  just right  fit  102493       NaN   \n",
       "82788  5ft 3in        jennaklinner  just right  fit  756491       NaN   \n",
       "82789      6ft     maireadsteadman  just right  fit   78305       NaN   \n",
       "\n",
       "      shoe width             review_summary  \\\n",
       "3            NaN                        NaN   \n",
       "9            NaN                        NaN   \n",
       "12           NaN                        NaN   \n",
       "13           NaN                        NaN   \n",
       "14           NaN                        NaN   \n",
       "...          ...                        ...   \n",
       "82783        NaN  I was surprised by the ve   \n",
       "82785    average               Cute jacket!   \n",
       "82787        NaN  I love this blazer. It is   \n",
       "82788        NaN  I love this blazer!! I wo   \n",
       "82789        NaN  I love this piece. I'm re   \n",
       "\n",
       "                                             review_text  \n",
       "3                                                    NaN  \n",
       "9                                                    NaN  \n",
       "12                                                   NaN  \n",
       "13                                                   NaN  \n",
       "14                                                   NaN  \n",
       "...                                                  ...  \n",
       "82783  I was surprised by the very good quality of th...  \n",
       "82785                                       Cute jacket!  \n",
       "82787  I love this blazer. It is a great office piece...  \n",
       "82788  I love this blazer!! I wore it yesterday and g...  \n",
       "82789       I love this piece. I'm really happy with it!  \n",
       "\n",
       "[56757 rows x 18 columns]"
      ]
     },
     "execution_count": 753,
     "metadata": {},
     "output_type": "execute_result"
    }
   ],
   "source": [
    "df_1[df_1['fit'].isin(['fit'])]"
   ]
  },
  {
   "cell_type": "code",
   "execution_count": 754,
   "id": "ccb58912",
   "metadata": {},
   "outputs": [
    {
     "data": {
      "text/html": [
       "<div>\n",
       "<style scoped>\n",
       "    .dataframe tbody tr th:only-of-type {\n",
       "        vertical-align: middle;\n",
       "    }\n",
       "\n",
       "    .dataframe tbody tr th {\n",
       "        vertical-align: top;\n",
       "    }\n",
       "\n",
       "    .dataframe thead th {\n",
       "        text-align: right;\n",
       "    }\n",
       "</style>\n",
       "<table border=\"1\" class=\"dataframe\">\n",
       "  <thead>\n",
       "    <tr style=\"text-align: right;\">\n",
       "      <th></th>\n",
       "      <th>item_id</th>\n",
       "      <th>waist</th>\n",
       "      <th>size</th>\n",
       "      <th>quality</th>\n",
       "      <th>cup size</th>\n",
       "      <th>hips</th>\n",
       "      <th>bra size</th>\n",
       "      <th>category</th>\n",
       "      <th>bust</th>\n",
       "      <th>height</th>\n",
       "      <th>user_name</th>\n",
       "      <th>length</th>\n",
       "      <th>fit</th>\n",
       "      <th>user_id</th>\n",
       "      <th>shoe size</th>\n",
       "      <th>shoe width</th>\n",
       "      <th>review_summary</th>\n",
       "      <th>review_text</th>\n",
       "    </tr>\n",
       "  </thead>\n",
       "  <tbody>\n",
       "    <tr>\n",
       "      <th>0</th>\n",
       "      <td>123373</td>\n",
       "      <td>29</td>\n",
       "      <td>7</td>\n",
       "      <td>5.0</td>\n",
       "      <td>d</td>\n",
       "      <td>38</td>\n",
       "      <td>34</td>\n",
       "      <td>new</td>\n",
       "      <td>36</td>\n",
       "      <td>5ft 6in</td>\n",
       "      <td>Emily</td>\n",
       "      <td>just right</td>\n",
       "      <td>small</td>\n",
       "      <td>991571</td>\n",
       "      <td>NaN</td>\n",
       "      <td>NaN</td>\n",
       "      <td>NaN</td>\n",
       "      <td>NaN</td>\n",
       "    </tr>\n",
       "    <tr>\n",
       "      <th>1</th>\n",
       "      <td>123373</td>\n",
       "      <td>31</td>\n",
       "      <td>13</td>\n",
       "      <td>3.0</td>\n",
       "      <td>b</td>\n",
       "      <td>30</td>\n",
       "      <td>36</td>\n",
       "      <td>new</td>\n",
       "      <td>NaN</td>\n",
       "      <td>5ft 2in</td>\n",
       "      <td>sydneybraden2001</td>\n",
       "      <td>just right</td>\n",
       "      <td>small</td>\n",
       "      <td>587883</td>\n",
       "      <td>NaN</td>\n",
       "      <td>NaN</td>\n",
       "      <td>NaN</td>\n",
       "      <td>NaN</td>\n",
       "    </tr>\n",
       "    <tr>\n",
       "      <th>2</th>\n",
       "      <td>123373</td>\n",
       "      <td>30</td>\n",
       "      <td>7</td>\n",
       "      <td>2.0</td>\n",
       "      <td>b</td>\n",
       "      <td>NaN</td>\n",
       "      <td>32</td>\n",
       "      <td>new</td>\n",
       "      <td>NaN</td>\n",
       "      <td>5ft 7in</td>\n",
       "      <td>Ugggh</td>\n",
       "      <td>slightly long</td>\n",
       "      <td>small</td>\n",
       "      <td>395665</td>\n",
       "      <td>9.00</td>\n",
       "      <td>NaN</td>\n",
       "      <td>NaN</td>\n",
       "      <td>NaN</td>\n",
       "    </tr>\n",
       "    <tr>\n",
       "      <th>4</th>\n",
       "      <td>123373</td>\n",
       "      <td>NaN</td>\n",
       "      <td>18</td>\n",
       "      <td>5.0</td>\n",
       "      <td>b</td>\n",
       "      <td>NaN</td>\n",
       "      <td>36</td>\n",
       "      <td>new</td>\n",
       "      <td>NaN</td>\n",
       "      <td>5ft 2in</td>\n",
       "      <td>dberrones1</td>\n",
       "      <td>slightly long</td>\n",
       "      <td>small</td>\n",
       "      <td>944840</td>\n",
       "      <td>NaN</td>\n",
       "      <td>NaN</td>\n",
       "      <td>NaN</td>\n",
       "      <td>NaN</td>\n",
       "    </tr>\n",
       "    <tr>\n",
       "      <th>5</th>\n",
       "      <td>123373</td>\n",
       "      <td>27</td>\n",
       "      <td>11</td>\n",
       "      <td>5.0</td>\n",
       "      <td>c</td>\n",
       "      <td>41</td>\n",
       "      <td>36</td>\n",
       "      <td>new</td>\n",
       "      <td>NaN</td>\n",
       "      <td>5ft 4in</td>\n",
       "      <td>Doreenajane</td>\n",
       "      <td>just right</td>\n",
       "      <td>small</td>\n",
       "      <td>162012</td>\n",
       "      <td>NaN</td>\n",
       "      <td>NaN</td>\n",
       "      <td>NaN</td>\n",
       "      <td>NaN</td>\n",
       "    </tr>\n",
       "    <tr>\n",
       "      <th>...</th>\n",
       "      <td>...</td>\n",
       "      <td>...</td>\n",
       "      <td>...</td>\n",
       "      <td>...</td>\n",
       "      <td>...</td>\n",
       "      <td>...</td>\n",
       "      <td>...</td>\n",
       "      <td>...</td>\n",
       "      <td>...</td>\n",
       "      <td>...</td>\n",
       "      <td>...</td>\n",
       "      <td>...</td>\n",
       "      <td>...</td>\n",
       "      <td>...</td>\n",
       "      <td>...</td>\n",
       "      <td>...</td>\n",
       "      <td>...</td>\n",
       "      <td>...</td>\n",
       "    </tr>\n",
       "    <tr>\n",
       "      <th>82778</th>\n",
       "      <td>807722</td>\n",
       "      <td>NaN</td>\n",
       "      <td>12</td>\n",
       "      <td>5.0</td>\n",
       "      <td>d</td>\n",
       "      <td>38.0</td>\n",
       "      <td>36</td>\n",
       "      <td>outerwear</td>\n",
       "      <td>NaN</td>\n",
       "      <td>5ft</td>\n",
       "      <td>mccoysarahe</td>\n",
       "      <td>slightly long</td>\n",
       "      <td>small</td>\n",
       "      <td>470252</td>\n",
       "      <td>NaN</td>\n",
       "      <td>NaN</td>\n",
       "      <td>This jacket is really nic</td>\n",
       "      <td>This jacket is really nice. Seems like it was ...</td>\n",
       "    </tr>\n",
       "    <tr>\n",
       "      <th>82779</th>\n",
       "      <td>807722</td>\n",
       "      <td>NaN</td>\n",
       "      <td>12</td>\n",
       "      <td>4.0</td>\n",
       "      <td>dd/e</td>\n",
       "      <td>38.0</td>\n",
       "      <td>36</td>\n",
       "      <td>outerwear</td>\n",
       "      <td>NaN</td>\n",
       "      <td>5ft 7in</td>\n",
       "      <td>lmoore81</td>\n",
       "      <td>just right</td>\n",
       "      <td>small</td>\n",
       "      <td>370303</td>\n",
       "      <td>7.50</td>\n",
       "      <td>average</td>\n",
       "      <td>Got this in black and rec</td>\n",
       "      <td>Got this in black and received so many complim...</td>\n",
       "    </tr>\n",
       "    <tr>\n",
       "      <th>82781</th>\n",
       "      <td>807722</td>\n",
       "      <td>NaN</td>\n",
       "      <td>12</td>\n",
       "      <td>5.0</td>\n",
       "      <td>dd/e</td>\n",
       "      <td>40.0</td>\n",
       "      <td>34</td>\n",
       "      <td>outerwear</td>\n",
       "      <td>38</td>\n",
       "      <td>5ft 6in</td>\n",
       "      <td>charlotte</td>\n",
       "      <td>just right</td>\n",
       "      <td>small</td>\n",
       "      <td>11806</td>\n",
       "      <td>6.50</td>\n",
       "      <td>NaN</td>\n",
       "      <td>This looks so cute over d</td>\n",
       "      <td>This looks so cute over dresses! I bought both...</td>\n",
       "    </tr>\n",
       "    <tr>\n",
       "      <th>82784</th>\n",
       "      <td>807722</td>\n",
       "      <td>NaN</td>\n",
       "      <td>4</td>\n",
       "      <td>3.0</td>\n",
       "      <td>a</td>\n",
       "      <td>35.0</td>\n",
       "      <td>32</td>\n",
       "      <td>outerwear</td>\n",
       "      <td>NaN</td>\n",
       "      <td>5ft 1in</td>\n",
       "      <td>ciwheeles</td>\n",
       "      <td>just right</td>\n",
       "      <td>large</td>\n",
       "      <td>317420</td>\n",
       "      <td>6.50</td>\n",
       "      <td>average</td>\n",
       "      <td>It ran a little big, and</td>\n",
       "      <td>It ran a little big, and I'm not crazy about t...</td>\n",
       "    </tr>\n",
       "    <tr>\n",
       "      <th>82786</th>\n",
       "      <td>807722</td>\n",
       "      <td>NaN</td>\n",
       "      <td>12</td>\n",
       "      <td>5.0</td>\n",
       "      <td>ddd/f</td>\n",
       "      <td>NaN</td>\n",
       "      <td>34</td>\n",
       "      <td>outerwear</td>\n",
       "      <td>NaN</td>\n",
       "      <td>5ft 5in</td>\n",
       "      <td>Kelli</td>\n",
       "      <td>slightly long</td>\n",
       "      <td>small</td>\n",
       "      <td>197040</td>\n",
       "      <td>NaN</td>\n",
       "      <td>NaN</td>\n",
       "      <td>It's a beautiful jacket.</td>\n",
       "      <td>It's a beautiful jacket. I love how it's knit ...</td>\n",
       "    </tr>\n",
       "  </tbody>\n",
       "</table>\n",
       "<p>26033 rows × 18 columns</p>\n",
       "</div>"
      ],
      "text/plain": [
       "      item_id waist  size  quality cup size  hips bra size   category bust  \\\n",
       "0      123373    29     7      5.0        d    38       34        new   36   \n",
       "1      123373    31    13      3.0        b    30       36        new  NaN   \n",
       "2      123373    30     7      2.0        b   NaN       32        new  NaN   \n",
       "4      123373   NaN    18      5.0        b   NaN       36        new  NaN   \n",
       "5      123373    27    11      5.0        c    41       36        new  NaN   \n",
       "...       ...   ...   ...      ...      ...   ...      ...        ...  ...   \n",
       "82778  807722   NaN    12      5.0        d  38.0       36  outerwear  NaN   \n",
       "82779  807722   NaN    12      4.0     dd/e  38.0       36  outerwear  NaN   \n",
       "82781  807722   NaN    12      5.0     dd/e  40.0       34  outerwear   38   \n",
       "82784  807722   NaN     4      3.0        a  35.0       32  outerwear  NaN   \n",
       "82786  807722   NaN    12      5.0    ddd/f   NaN       34  outerwear  NaN   \n",
       "\n",
       "        height         user_name         length    fit user_id shoe size  \\\n",
       "0      5ft 6in             Emily     just right  small  991571       NaN   \n",
       "1      5ft 2in  sydneybraden2001     just right  small  587883       NaN   \n",
       "2      5ft 7in             Ugggh  slightly long  small  395665      9.00   \n",
       "4      5ft 2in        dberrones1  slightly long  small  944840       NaN   \n",
       "5      5ft 4in       Doreenajane     just right  small  162012       NaN   \n",
       "...        ...               ...            ...    ...     ...       ...   \n",
       "82778      5ft       mccoysarahe  slightly long  small  470252       NaN   \n",
       "82779  5ft 7in          lmoore81     just right  small  370303      7.50   \n",
       "82781  5ft 6in         charlotte     just right  small   11806      6.50   \n",
       "82784  5ft 1in         ciwheeles     just right  large  317420      6.50   \n",
       "82786  5ft 5in             Kelli  slightly long  small  197040       NaN   \n",
       "\n",
       "      shoe width             review_summary  \\\n",
       "0            NaN                        NaN   \n",
       "1            NaN                        NaN   \n",
       "2            NaN                        NaN   \n",
       "4            NaN                        NaN   \n",
       "5            NaN                        NaN   \n",
       "...          ...                        ...   \n",
       "82778        NaN  This jacket is really nic   \n",
       "82779    average  Got this in black and rec   \n",
       "82781        NaN  This looks so cute over d   \n",
       "82784    average   It ran a little big, and   \n",
       "82786        NaN   It's a beautiful jacket.   \n",
       "\n",
       "                                             review_text  \n",
       "0                                                    NaN  \n",
       "1                                                    NaN  \n",
       "2                                                    NaN  \n",
       "4                                                    NaN  \n",
       "5                                                    NaN  \n",
       "...                                                  ...  \n",
       "82778  This jacket is really nice. Seems like it was ...  \n",
       "82779  Got this in black and received so many complim...  \n",
       "82781  This looks so cute over dresses! I bought both...  \n",
       "82784  It ran a little big, and I'm not crazy about t...  \n",
       "82786  It's a beautiful jacket. I love how it's knit ...  \n",
       "\n",
       "[26033 rows x 18 columns]"
      ]
     },
     "execution_count": 754,
     "metadata": {},
     "output_type": "execute_result"
    }
   ],
   "source": [
    "df_1[~df_1['fit'].isin(['fit'])]"
   ]
  },
  {
   "cell_type": "markdown",
   "id": "61ebfee5",
   "metadata": {},
   "source": [
    "## Rent the RunWay"
   ]
  },
  {
   "cell_type": "code",
   "execution_count": 4,
   "id": "1237b30e",
   "metadata": {},
   "outputs": [],
   "source": [
    "def readDataJson(path):\n",
    "    x = gzip.open(path)\n",
    "    for l in x:\n",
    "        yield json.loads(l)"
   ]
  },
  {
   "cell_type": "code",
   "execution_count": 5,
   "id": "53b3f2b2",
   "metadata": {},
   "outputs": [],
   "source": [
    "rent_the_runway_data = []\n",
    "for d in readDataJson(\"renttherunway_final_data.json.gz\"):\n",
    "    rent_the_runway_data.append(d)"
   ]
  },
  {
   "cell_type": "code",
   "execution_count": 6,
   "id": "ed2c8fd0",
   "metadata": {},
   "outputs": [
    {
     "data": {
      "text/html": [
       "<div>\n",
       "<style scoped>\n",
       "    .dataframe tbody tr th:only-of-type {\n",
       "        vertical-align: middle;\n",
       "    }\n",
       "\n",
       "    .dataframe tbody tr th {\n",
       "        vertical-align: top;\n",
       "    }\n",
       "\n",
       "    .dataframe thead th {\n",
       "        text-align: right;\n",
       "    }\n",
       "</style>\n",
       "<table border=\"1\" class=\"dataframe\">\n",
       "  <thead>\n",
       "    <tr style=\"text-align: right;\">\n",
       "      <th></th>\n",
       "      <th>fit</th>\n",
       "      <th>user_id</th>\n",
       "      <th>bust size</th>\n",
       "      <th>item_id</th>\n",
       "      <th>weight</th>\n",
       "      <th>rating</th>\n",
       "      <th>rented for</th>\n",
       "      <th>review_text</th>\n",
       "      <th>body type</th>\n",
       "      <th>review_summary</th>\n",
       "      <th>category</th>\n",
       "      <th>height</th>\n",
       "      <th>size</th>\n",
       "      <th>age</th>\n",
       "      <th>review_date</th>\n",
       "    </tr>\n",
       "  </thead>\n",
       "  <tbody>\n",
       "    <tr>\n",
       "      <th>0</th>\n",
       "      <td>fit</td>\n",
       "      <td>420272</td>\n",
       "      <td>34d</td>\n",
       "      <td>2260466</td>\n",
       "      <td>137lbs</td>\n",
       "      <td>10</td>\n",
       "      <td>vacation</td>\n",
       "      <td>An adorable romper! Belt and zipper were a lit...</td>\n",
       "      <td>hourglass</td>\n",
       "      <td>So many compliments!</td>\n",
       "      <td>romper</td>\n",
       "      <td>5' 8\"</td>\n",
       "      <td>14</td>\n",
       "      <td>28</td>\n",
       "      <td>April 20, 2016</td>\n",
       "    </tr>\n",
       "    <tr>\n",
       "      <th>1</th>\n",
       "      <td>fit</td>\n",
       "      <td>273551</td>\n",
       "      <td>34b</td>\n",
       "      <td>153475</td>\n",
       "      <td>132lbs</td>\n",
       "      <td>10</td>\n",
       "      <td>other</td>\n",
       "      <td>I rented this dress for a photo shoot. The the...</td>\n",
       "      <td>straight &amp; narrow</td>\n",
       "      <td>I felt so glamourous!!!</td>\n",
       "      <td>gown</td>\n",
       "      <td>5' 6\"</td>\n",
       "      <td>12</td>\n",
       "      <td>36</td>\n",
       "      <td>June 18, 2013</td>\n",
       "    </tr>\n",
       "    <tr>\n",
       "      <th>2</th>\n",
       "      <td>fit</td>\n",
       "      <td>360448</td>\n",
       "      <td>NaN</td>\n",
       "      <td>1063761</td>\n",
       "      <td>NaN</td>\n",
       "      <td>10</td>\n",
       "      <td>party</td>\n",
       "      <td>This hugged in all the right places! It was a ...</td>\n",
       "      <td>NaN</td>\n",
       "      <td>It was a great time to celebrate the (almost) ...</td>\n",
       "      <td>sheath</td>\n",
       "      <td>5' 4\"</td>\n",
       "      <td>4</td>\n",
       "      <td>116</td>\n",
       "      <td>December 14, 2015</td>\n",
       "    </tr>\n",
       "    <tr>\n",
       "      <th>3</th>\n",
       "      <td>fit</td>\n",
       "      <td>909926</td>\n",
       "      <td>34c</td>\n",
       "      <td>126335</td>\n",
       "      <td>135lbs</td>\n",
       "      <td>8</td>\n",
       "      <td>formal affair</td>\n",
       "      <td>I rented this for my company's black tie award...</td>\n",
       "      <td>pear</td>\n",
       "      <td>Dress arrived on time and in perfect condition.</td>\n",
       "      <td>dress</td>\n",
       "      <td>5' 5\"</td>\n",
       "      <td>8</td>\n",
       "      <td>34</td>\n",
       "      <td>February 12, 2014</td>\n",
       "    </tr>\n",
       "    <tr>\n",
       "      <th>4</th>\n",
       "      <td>fit</td>\n",
       "      <td>151944</td>\n",
       "      <td>34b</td>\n",
       "      <td>616682</td>\n",
       "      <td>145lbs</td>\n",
       "      <td>10</td>\n",
       "      <td>wedding</td>\n",
       "      <td>I have always been petite in my upper body and...</td>\n",
       "      <td>athletic</td>\n",
       "      <td>Was in love with this dress !!!</td>\n",
       "      <td>gown</td>\n",
       "      <td>5' 9\"</td>\n",
       "      <td>12</td>\n",
       "      <td>27</td>\n",
       "      <td>September 26, 2016</td>\n",
       "    </tr>\n",
       "    <tr>\n",
       "      <th>...</th>\n",
       "      <td>...</td>\n",
       "      <td>...</td>\n",
       "      <td>...</td>\n",
       "      <td>...</td>\n",
       "      <td>...</td>\n",
       "      <td>...</td>\n",
       "      <td>...</td>\n",
       "      <td>...</td>\n",
       "      <td>...</td>\n",
       "      <td>...</td>\n",
       "      <td>...</td>\n",
       "      <td>...</td>\n",
       "      <td>...</td>\n",
       "      <td>...</td>\n",
       "      <td>...</td>\n",
       "    </tr>\n",
       "    <tr>\n",
       "      <th>192539</th>\n",
       "      <td>fit</td>\n",
       "      <td>66386</td>\n",
       "      <td>34dd</td>\n",
       "      <td>2252812</td>\n",
       "      <td>140lbs</td>\n",
       "      <td>10</td>\n",
       "      <td>work</td>\n",
       "      <td>Fit like a glove!</td>\n",
       "      <td>hourglass</td>\n",
       "      <td>LOVE IT!!! First Item Im thinking of buying!</td>\n",
       "      <td>jumpsuit</td>\n",
       "      <td>5' 9\"</td>\n",
       "      <td>8</td>\n",
       "      <td>42</td>\n",
       "      <td>May 18, 2016</td>\n",
       "    </tr>\n",
       "    <tr>\n",
       "      <th>192540</th>\n",
       "      <td>fit</td>\n",
       "      <td>118398</td>\n",
       "      <td>32c</td>\n",
       "      <td>682043</td>\n",
       "      <td>100lbs</td>\n",
       "      <td>10</td>\n",
       "      <td>work</td>\n",
       "      <td>The pattern contrast on this dress is really s...</td>\n",
       "      <td>petite</td>\n",
       "      <td>LOVE it!</td>\n",
       "      <td>dress</td>\n",
       "      <td>5' 1\"</td>\n",
       "      <td>4</td>\n",
       "      <td>29</td>\n",
       "      <td>September 30, 2016</td>\n",
       "    </tr>\n",
       "    <tr>\n",
       "      <th>192541</th>\n",
       "      <td>fit</td>\n",
       "      <td>47002</td>\n",
       "      <td>36a</td>\n",
       "      <td>683251</td>\n",
       "      <td>135lbs</td>\n",
       "      <td>6</td>\n",
       "      <td>everyday</td>\n",
       "      <td>Like the other DVF wraps, the fit on this is f...</td>\n",
       "      <td>straight &amp; narrow</td>\n",
       "      <td>Loud patterning, flattering fit</td>\n",
       "      <td>dress</td>\n",
       "      <td>5' 8\"</td>\n",
       "      <td>8</td>\n",
       "      <td>31</td>\n",
       "      <td>March 4, 2016</td>\n",
       "    </tr>\n",
       "    <tr>\n",
       "      <th>192542</th>\n",
       "      <td>fit</td>\n",
       "      <td>961120</td>\n",
       "      <td>36c</td>\n",
       "      <td>126335</td>\n",
       "      <td>165lbs</td>\n",
       "      <td>10</td>\n",
       "      <td>wedding</td>\n",
       "      <td>This dress was PERFECTION.  it looked incredib...</td>\n",
       "      <td>pear</td>\n",
       "      <td>loved this dress it was comfortable and photog...</td>\n",
       "      <td>dress</td>\n",
       "      <td>5' 6\"</td>\n",
       "      <td>16</td>\n",
       "      <td>31</td>\n",
       "      <td>November 25, 2015</td>\n",
       "    </tr>\n",
       "    <tr>\n",
       "      <th>192543</th>\n",
       "      <td>fit</td>\n",
       "      <td>123612</td>\n",
       "      <td>36b</td>\n",
       "      <td>127865</td>\n",
       "      <td>155lbs</td>\n",
       "      <td>10</td>\n",
       "      <td>wedding</td>\n",
       "      <td>This dress was wonderful! I had originally pla...</td>\n",
       "      <td>athletic</td>\n",
       "      <td>I wore this to a beautiful black tie optional ...</td>\n",
       "      <td>gown</td>\n",
       "      <td>5' 6\"</td>\n",
       "      <td>16</td>\n",
       "      <td>30</td>\n",
       "      <td>August 29, 2017</td>\n",
       "    </tr>\n",
       "  </tbody>\n",
       "</table>\n",
       "<p>192544 rows × 15 columns</p>\n",
       "</div>"
      ],
      "text/plain": [
       "        fit user_id bust size  item_id  weight rating     rented for  \\\n",
       "0       fit  420272       34d  2260466  137lbs     10       vacation   \n",
       "1       fit  273551       34b   153475  132lbs     10          other   \n",
       "2       fit  360448       NaN  1063761     NaN     10          party   \n",
       "3       fit  909926       34c   126335  135lbs      8  formal affair   \n",
       "4       fit  151944       34b   616682  145lbs     10        wedding   \n",
       "...     ...     ...       ...      ...     ...    ...            ...   \n",
       "192539  fit   66386      34dd  2252812  140lbs     10           work   \n",
       "192540  fit  118398       32c   682043  100lbs     10           work   \n",
       "192541  fit   47002       36a   683251  135lbs      6       everyday   \n",
       "192542  fit  961120       36c   126335  165lbs     10        wedding   \n",
       "192543  fit  123612       36b   127865  155lbs     10        wedding   \n",
       "\n",
       "                                              review_text          body type  \\\n",
       "0       An adorable romper! Belt and zipper were a lit...          hourglass   \n",
       "1       I rented this dress for a photo shoot. The the...  straight & narrow   \n",
       "2       This hugged in all the right places! It was a ...                NaN   \n",
       "3       I rented this for my company's black tie award...               pear   \n",
       "4       I have always been petite in my upper body and...           athletic   \n",
       "...                                                   ...                ...   \n",
       "192539                                  Fit like a glove!          hourglass   \n",
       "192540  The pattern contrast on this dress is really s...             petite   \n",
       "192541  Like the other DVF wraps, the fit on this is f...  straight & narrow   \n",
       "192542  This dress was PERFECTION.  it looked incredib...               pear   \n",
       "192543  This dress was wonderful! I had originally pla...           athletic   \n",
       "\n",
       "                                           review_summary  category height  \\\n",
       "0                                    So many compliments!    romper  5' 8\"   \n",
       "1                                 I felt so glamourous!!!      gown  5' 6\"   \n",
       "2       It was a great time to celebrate the (almost) ...    sheath  5' 4\"   \n",
       "3        Dress arrived on time and in perfect condition.      dress  5' 5\"   \n",
       "4                         Was in love with this dress !!!      gown  5' 9\"   \n",
       "...                                                   ...       ...    ...   \n",
       "192539       LOVE IT!!! First Item Im thinking of buying!  jumpsuit  5' 9\"   \n",
       "192540                                           LOVE it!     dress  5' 1\"   \n",
       "192541                    Loud patterning, flattering fit     dress  5' 8\"   \n",
       "192542  loved this dress it was comfortable and photog...     dress  5' 6\"   \n",
       "192543  I wore this to a beautiful black tie optional ...      gown  5' 6\"   \n",
       "\n",
       "        size  age         review_date  \n",
       "0         14   28      April 20, 2016  \n",
       "1         12   36       June 18, 2013  \n",
       "2          4  116   December 14, 2015  \n",
       "3          8   34   February 12, 2014  \n",
       "4         12   27  September 26, 2016  \n",
       "...      ...  ...                 ...  \n",
       "192539     8   42        May 18, 2016  \n",
       "192540     4   29  September 30, 2016  \n",
       "192541     8   31       March 4, 2016  \n",
       "192542    16   31   November 25, 2015  \n",
       "192543    16   30     August 29, 2017  \n",
       "\n",
       "[192544 rows x 15 columns]"
      ]
     },
     "execution_count": 6,
     "metadata": {},
     "output_type": "execute_result"
    }
   ],
   "source": [
    "df = pd.DataFrame(rent_the_runway_data)\n",
    "df"
   ]
  },
  {
   "cell_type": "code",
   "execution_count": 7,
   "id": "27b380fd",
   "metadata": {},
   "outputs": [
    {
     "name": "stdout",
     "output_type": "stream",
     "text": [
      "['fit', 'large', 'small']\n"
     ]
    }
   ],
   "source": [
    "a = df['fit'].unique()\n",
    "print(sorted(a))"
   ]
  },
  {
   "cell_type": "code",
   "execution_count": 711,
   "id": "6b14c94d",
   "metadata": {},
   "outputs": [
    {
     "data": {
      "text/html": [
       "<div>\n",
       "<style scoped>\n",
       "    .dataframe tbody tr th:only-of-type {\n",
       "        vertical-align: middle;\n",
       "    }\n",
       "\n",
       "    .dataframe tbody tr th {\n",
       "        vertical-align: top;\n",
       "    }\n",
       "\n",
       "    .dataframe thead th {\n",
       "        text-align: right;\n",
       "    }\n",
       "</style>\n",
       "<table border=\"1\" class=\"dataframe\">\n",
       "  <thead>\n",
       "    <tr style=\"text-align: right;\">\n",
       "      <th></th>\n",
       "      <th>fit</th>\n",
       "      <th>user_id</th>\n",
       "      <th>bust size</th>\n",
       "      <th>item_id</th>\n",
       "      <th>weight</th>\n",
       "      <th>rating</th>\n",
       "      <th>rented for</th>\n",
       "      <th>review_text</th>\n",
       "      <th>body type</th>\n",
       "      <th>review_summary</th>\n",
       "      <th>category</th>\n",
       "      <th>height</th>\n",
       "      <th>size</th>\n",
       "      <th>age</th>\n",
       "      <th>review_date</th>\n",
       "    </tr>\n",
       "  </thead>\n",
       "  <tbody>\n",
       "    <tr>\n",
       "      <th>0</th>\n",
       "      <td>fit</td>\n",
       "      <td>420272</td>\n",
       "      <td>34d</td>\n",
       "      <td>2260466</td>\n",
       "      <td>137lbs</td>\n",
       "      <td>10</td>\n",
       "      <td>vacation</td>\n",
       "      <td>An adorable romper! Belt and zipper were a lit...</td>\n",
       "      <td>hourglass</td>\n",
       "      <td>So many compliments!</td>\n",
       "      <td>romper</td>\n",
       "      <td>5' 8\"</td>\n",
       "      <td>14</td>\n",
       "      <td>28</td>\n",
       "      <td>April 20, 2016</td>\n",
       "    </tr>\n",
       "    <tr>\n",
       "      <th>1</th>\n",
       "      <td>fit</td>\n",
       "      <td>273551</td>\n",
       "      <td>34b</td>\n",
       "      <td>153475</td>\n",
       "      <td>132lbs</td>\n",
       "      <td>10</td>\n",
       "      <td>other</td>\n",
       "      <td>I rented this dress for a photo shoot. The the...</td>\n",
       "      <td>straight &amp; narrow</td>\n",
       "      <td>I felt so glamourous!!!</td>\n",
       "      <td>gown</td>\n",
       "      <td>5' 6\"</td>\n",
       "      <td>12</td>\n",
       "      <td>36</td>\n",
       "      <td>June 18, 2013</td>\n",
       "    </tr>\n",
       "    <tr>\n",
       "      <th>2</th>\n",
       "      <td>fit</td>\n",
       "      <td>360448</td>\n",
       "      <td>NaN</td>\n",
       "      <td>1063761</td>\n",
       "      <td>NaN</td>\n",
       "      <td>10</td>\n",
       "      <td>party</td>\n",
       "      <td>This hugged in all the right places! It was a ...</td>\n",
       "      <td>NaN</td>\n",
       "      <td>It was a great time to celebrate the (almost) ...</td>\n",
       "      <td>sheath</td>\n",
       "      <td>5' 4\"</td>\n",
       "      <td>4</td>\n",
       "      <td>116</td>\n",
       "      <td>December 14, 2015</td>\n",
       "    </tr>\n",
       "    <tr>\n",
       "      <th>3</th>\n",
       "      <td>fit</td>\n",
       "      <td>909926</td>\n",
       "      <td>34c</td>\n",
       "      <td>126335</td>\n",
       "      <td>135lbs</td>\n",
       "      <td>8</td>\n",
       "      <td>formal affair</td>\n",
       "      <td>I rented this for my company's black tie award...</td>\n",
       "      <td>pear</td>\n",
       "      <td>Dress arrived on time and in perfect condition.</td>\n",
       "      <td>dress</td>\n",
       "      <td>5' 5\"</td>\n",
       "      <td>8</td>\n",
       "      <td>34</td>\n",
       "      <td>February 12, 2014</td>\n",
       "    </tr>\n",
       "    <tr>\n",
       "      <th>4</th>\n",
       "      <td>fit</td>\n",
       "      <td>151944</td>\n",
       "      <td>34b</td>\n",
       "      <td>616682</td>\n",
       "      <td>145lbs</td>\n",
       "      <td>10</td>\n",
       "      <td>wedding</td>\n",
       "      <td>I have always been petite in my upper body and...</td>\n",
       "      <td>athletic</td>\n",
       "      <td>Was in love with this dress !!!</td>\n",
       "      <td>gown</td>\n",
       "      <td>5' 9\"</td>\n",
       "      <td>12</td>\n",
       "      <td>27</td>\n",
       "      <td>September 26, 2016</td>\n",
       "    </tr>\n",
       "    <tr>\n",
       "      <th>...</th>\n",
       "      <td>...</td>\n",
       "      <td>...</td>\n",
       "      <td>...</td>\n",
       "      <td>...</td>\n",
       "      <td>...</td>\n",
       "      <td>...</td>\n",
       "      <td>...</td>\n",
       "      <td>...</td>\n",
       "      <td>...</td>\n",
       "      <td>...</td>\n",
       "      <td>...</td>\n",
       "      <td>...</td>\n",
       "      <td>...</td>\n",
       "      <td>...</td>\n",
       "      <td>...</td>\n",
       "    </tr>\n",
       "    <tr>\n",
       "      <th>192539</th>\n",
       "      <td>fit</td>\n",
       "      <td>66386</td>\n",
       "      <td>34dd</td>\n",
       "      <td>2252812</td>\n",
       "      <td>140lbs</td>\n",
       "      <td>10</td>\n",
       "      <td>work</td>\n",
       "      <td>Fit like a glove!</td>\n",
       "      <td>hourglass</td>\n",
       "      <td>LOVE IT!!! First Item Im thinking of buying!</td>\n",
       "      <td>jumpsuit</td>\n",
       "      <td>5' 9\"</td>\n",
       "      <td>8</td>\n",
       "      <td>42</td>\n",
       "      <td>May 18, 2016</td>\n",
       "    </tr>\n",
       "    <tr>\n",
       "      <th>192540</th>\n",
       "      <td>fit</td>\n",
       "      <td>118398</td>\n",
       "      <td>32c</td>\n",
       "      <td>682043</td>\n",
       "      <td>100lbs</td>\n",
       "      <td>10</td>\n",
       "      <td>work</td>\n",
       "      <td>The pattern contrast on this dress is really s...</td>\n",
       "      <td>petite</td>\n",
       "      <td>LOVE it!</td>\n",
       "      <td>dress</td>\n",
       "      <td>5' 1\"</td>\n",
       "      <td>4</td>\n",
       "      <td>29</td>\n",
       "      <td>September 30, 2016</td>\n",
       "    </tr>\n",
       "    <tr>\n",
       "      <th>192541</th>\n",
       "      <td>fit</td>\n",
       "      <td>47002</td>\n",
       "      <td>36a</td>\n",
       "      <td>683251</td>\n",
       "      <td>135lbs</td>\n",
       "      <td>6</td>\n",
       "      <td>everyday</td>\n",
       "      <td>Like the other DVF wraps, the fit on this is f...</td>\n",
       "      <td>straight &amp; narrow</td>\n",
       "      <td>Loud patterning, flattering fit</td>\n",
       "      <td>dress</td>\n",
       "      <td>5' 8\"</td>\n",
       "      <td>8</td>\n",
       "      <td>31</td>\n",
       "      <td>March 4, 2016</td>\n",
       "    </tr>\n",
       "    <tr>\n",
       "      <th>192542</th>\n",
       "      <td>fit</td>\n",
       "      <td>961120</td>\n",
       "      <td>36c</td>\n",
       "      <td>126335</td>\n",
       "      <td>165lbs</td>\n",
       "      <td>10</td>\n",
       "      <td>wedding</td>\n",
       "      <td>This dress was PERFECTION.  it looked incredib...</td>\n",
       "      <td>pear</td>\n",
       "      <td>loved this dress it was comfortable and photog...</td>\n",
       "      <td>dress</td>\n",
       "      <td>5' 6\"</td>\n",
       "      <td>16</td>\n",
       "      <td>31</td>\n",
       "      <td>November 25, 2015</td>\n",
       "    </tr>\n",
       "    <tr>\n",
       "      <th>192543</th>\n",
       "      <td>fit</td>\n",
       "      <td>123612</td>\n",
       "      <td>36b</td>\n",
       "      <td>127865</td>\n",
       "      <td>155lbs</td>\n",
       "      <td>10</td>\n",
       "      <td>wedding</td>\n",
       "      <td>This dress was wonderful! I had originally pla...</td>\n",
       "      <td>athletic</td>\n",
       "      <td>I wore this to a beautiful black tie optional ...</td>\n",
       "      <td>gown</td>\n",
       "      <td>5' 6\"</td>\n",
       "      <td>16</td>\n",
       "      <td>30</td>\n",
       "      <td>August 29, 2017</td>\n",
       "    </tr>\n",
       "  </tbody>\n",
       "</table>\n",
       "<p>142058 rows × 15 columns</p>\n",
       "</div>"
      ],
      "text/plain": [
       "        fit user_id bust size  item_id  weight rating     rented for  \\\n",
       "0       fit  420272       34d  2260466  137lbs     10       vacation   \n",
       "1       fit  273551       34b   153475  132lbs     10          other   \n",
       "2       fit  360448       NaN  1063761     NaN     10          party   \n",
       "3       fit  909926       34c   126335  135lbs      8  formal affair   \n",
       "4       fit  151944       34b   616682  145lbs     10        wedding   \n",
       "...     ...     ...       ...      ...     ...    ...            ...   \n",
       "192539  fit   66386      34dd  2252812  140lbs     10           work   \n",
       "192540  fit  118398       32c   682043  100lbs     10           work   \n",
       "192541  fit   47002       36a   683251  135lbs      6       everyday   \n",
       "192542  fit  961120       36c   126335  165lbs     10        wedding   \n",
       "192543  fit  123612       36b   127865  155lbs     10        wedding   \n",
       "\n",
       "                                              review_text          body type  \\\n",
       "0       An adorable romper! Belt and zipper were a lit...          hourglass   \n",
       "1       I rented this dress for a photo shoot. The the...  straight & narrow   \n",
       "2       This hugged in all the right places! It was a ...                NaN   \n",
       "3       I rented this for my company's black tie award...               pear   \n",
       "4       I have always been petite in my upper body and...           athletic   \n",
       "...                                                   ...                ...   \n",
       "192539                                  Fit like a glove!          hourglass   \n",
       "192540  The pattern contrast on this dress is really s...             petite   \n",
       "192541  Like the other DVF wraps, the fit on this is f...  straight & narrow   \n",
       "192542  This dress was PERFECTION.  it looked incredib...               pear   \n",
       "192543  This dress was wonderful! I had originally pla...           athletic   \n",
       "\n",
       "                                           review_summary  category height  \\\n",
       "0                                    So many compliments!    romper  5' 8\"   \n",
       "1                                 I felt so glamourous!!!      gown  5' 6\"   \n",
       "2       It was a great time to celebrate the (almost) ...    sheath  5' 4\"   \n",
       "3        Dress arrived on time and in perfect condition.      dress  5' 5\"   \n",
       "4                         Was in love with this dress !!!      gown  5' 9\"   \n",
       "...                                                   ...       ...    ...   \n",
       "192539       LOVE IT!!! First Item Im thinking of buying!  jumpsuit  5' 9\"   \n",
       "192540                                           LOVE it!     dress  5' 1\"   \n",
       "192541                    Loud patterning, flattering fit     dress  5' 8\"   \n",
       "192542  loved this dress it was comfortable and photog...     dress  5' 6\"   \n",
       "192543  I wore this to a beautiful black tie optional ...      gown  5' 6\"   \n",
       "\n",
       "        size  age         review_date  \n",
       "0         14   28      April 20, 2016  \n",
       "1         12   36       June 18, 2013  \n",
       "2          4  116   December 14, 2015  \n",
       "3          8   34   February 12, 2014  \n",
       "4         12   27  September 26, 2016  \n",
       "...      ...  ...                 ...  \n",
       "192539     8   42        May 18, 2016  \n",
       "192540     4   29  September 30, 2016  \n",
       "192541     8   31       March 4, 2016  \n",
       "192542    16   31   November 25, 2015  \n",
       "192543    16   30     August 29, 2017  \n",
       "\n",
       "[142058 rows x 15 columns]"
      ]
     },
     "execution_count": 711,
     "metadata": {},
     "output_type": "execute_result"
    }
   ],
   "source": [
    "df[df['fit'].isin(['fit'])]"
   ]
  },
  {
   "cell_type": "code",
   "execution_count": 710,
   "id": "0d38eb29",
   "metadata": {},
   "outputs": [
    {
     "data": {
      "text/html": [
       "<div>\n",
       "<style scoped>\n",
       "    .dataframe tbody tr th:only-of-type {\n",
       "        vertical-align: middle;\n",
       "    }\n",
       "\n",
       "    .dataframe tbody tr th {\n",
       "        vertical-align: top;\n",
       "    }\n",
       "\n",
       "    .dataframe thead th {\n",
       "        text-align: right;\n",
       "    }\n",
       "</style>\n",
       "<table border=\"1\" class=\"dataframe\">\n",
       "  <thead>\n",
       "    <tr style=\"text-align: right;\">\n",
       "      <th></th>\n",
       "      <th>fit</th>\n",
       "      <th>user_id</th>\n",
       "      <th>bust size</th>\n",
       "      <th>item_id</th>\n",
       "      <th>weight</th>\n",
       "      <th>rating</th>\n",
       "      <th>rented for</th>\n",
       "      <th>review_text</th>\n",
       "      <th>body type</th>\n",
       "      <th>review_summary</th>\n",
       "      <th>category</th>\n",
       "      <th>height</th>\n",
       "      <th>size</th>\n",
       "      <th>age</th>\n",
       "      <th>review_date</th>\n",
       "    </tr>\n",
       "  </thead>\n",
       "  <tbody>\n",
       "    <tr>\n",
       "      <th>10</th>\n",
       "      <td>small</td>\n",
       "      <td>185966</td>\n",
       "      <td>34b</td>\n",
       "      <td>1077123</td>\n",
       "      <td>135lbs</td>\n",
       "      <td>8</td>\n",
       "      <td>party</td>\n",
       "      <td>The dress arrived with a small hole in the bea...</td>\n",
       "      <td>athletic</td>\n",
       "      <td>It was fun to wear a dress I wouldn't normally...</td>\n",
       "      <td>dress</td>\n",
       "      <td>5' 3\"</td>\n",
       "      <td>12</td>\n",
       "      <td>33</td>\n",
       "      <td>January 2, 2018</td>\n",
       "    </tr>\n",
       "    <tr>\n",
       "      <th>11</th>\n",
       "      <td>large</td>\n",
       "      <td>533900</td>\n",
       "      <td>34b</td>\n",
       "      <td>130259</td>\n",
       "      <td>135lbs</td>\n",
       "      <td>8</td>\n",
       "      <td>wedding</td>\n",
       "      <td>This dress was absolutely gorgeous and I recei...</td>\n",
       "      <td>pear</td>\n",
       "      <td>Stunning dress, perfect for a New Year's Eve w...</td>\n",
       "      <td>dress</td>\n",
       "      <td>5' 6\"</td>\n",
       "      <td>8</td>\n",
       "      <td>30</td>\n",
       "      <td>January 7, 2013</td>\n",
       "    </tr>\n",
       "    <tr>\n",
       "      <th>13</th>\n",
       "      <td>large</td>\n",
       "      <td>391778</td>\n",
       "      <td>36d</td>\n",
       "      <td>143094</td>\n",
       "      <td>142lbs</td>\n",
       "      <td>8</td>\n",
       "      <td>party</td>\n",
       "      <td>I ordered this dress as a replacement because ...</td>\n",
       "      <td>apple</td>\n",
       "      <td>Ordered this as a replacement dress</td>\n",
       "      <td>dress</td>\n",
       "      <td>5' 2\"</td>\n",
       "      <td>20</td>\n",
       "      <td>29</td>\n",
       "      <td>October 4, 2014</td>\n",
       "    </tr>\n",
       "    <tr>\n",
       "      <th>19</th>\n",
       "      <td>small</td>\n",
       "      <td>16800</td>\n",
       "      <td>34c</td>\n",
       "      <td>1229740</td>\n",
       "      <td>135lbs</td>\n",
       "      <td>10</td>\n",
       "      <td>formal affair</td>\n",
       "      <td>super cute, 8 was super tight so i wore the 10...</td>\n",
       "      <td>petite</td>\n",
       "      <td>gala ready</td>\n",
       "      <td>gown</td>\n",
       "      <td>5' 6\"</td>\n",
       "      <td>21</td>\n",
       "      <td>33</td>\n",
       "      <td>November 16, 2017</td>\n",
       "    </tr>\n",
       "    <tr>\n",
       "      <th>27</th>\n",
       "      <td>small</td>\n",
       "      <td>610914</td>\n",
       "      <td>32c</td>\n",
       "      <td>1739627</td>\n",
       "      <td>140lbs</td>\n",
       "      <td>10</td>\n",
       "      <td>party</td>\n",
       "      <td>Lovely fabric, heavier than I imagined it woul...</td>\n",
       "      <td>hourglass</td>\n",
       "      <td>Runs small</td>\n",
       "      <td>dress</td>\n",
       "      <td>5' 3\"</td>\n",
       "      <td>4</td>\n",
       "      <td>32</td>\n",
       "      <td>March 10, 2016</td>\n",
       "    </tr>\n",
       "    <tr>\n",
       "      <th>...</th>\n",
       "      <td>...</td>\n",
       "      <td>...</td>\n",
       "      <td>...</td>\n",
       "      <td>...</td>\n",
       "      <td>...</td>\n",
       "      <td>...</td>\n",
       "      <td>...</td>\n",
       "      <td>...</td>\n",
       "      <td>...</td>\n",
       "      <td>...</td>\n",
       "      <td>...</td>\n",
       "      <td>...</td>\n",
       "      <td>...</td>\n",
       "      <td>...</td>\n",
       "      <td>...</td>\n",
       "    </tr>\n",
       "    <tr>\n",
       "      <th>192528</th>\n",
       "      <td>small</td>\n",
       "      <td>597756</td>\n",
       "      <td>38dd</td>\n",
       "      <td>300980</td>\n",
       "      <td>220lbs</td>\n",
       "      <td>10</td>\n",
       "      <td>wedding</td>\n",
       "      <td>First time using RTR. I wasn't sure what to ex...</td>\n",
       "      <td>full bust</td>\n",
       "      <td>I felt fierce in this dress!</td>\n",
       "      <td>dress</td>\n",
       "      <td>5' 4\"</td>\n",
       "      <td>35</td>\n",
       "      <td>32</td>\n",
       "      <td>November 12, 2017</td>\n",
       "    </tr>\n",
       "    <tr>\n",
       "      <th>192531</th>\n",
       "      <td>small</td>\n",
       "      <td>136279</td>\n",
       "      <td>32b</td>\n",
       "      <td>330238</td>\n",
       "      <td>115lbs</td>\n",
       "      <td>8</td>\n",
       "      <td>date</td>\n",
       "      <td>The dress is very tight around the butt and hi...</td>\n",
       "      <td>athletic</td>\n",
       "      <td>Hot dress. Lots of compliments from strangers.</td>\n",
       "      <td>sheath</td>\n",
       "      <td>5' 6\"</td>\n",
       "      <td>4</td>\n",
       "      <td>32</td>\n",
       "      <td>June 2, 2015</td>\n",
       "    </tr>\n",
       "    <tr>\n",
       "      <th>192532</th>\n",
       "      <td>small</td>\n",
       "      <td>838239</td>\n",
       "      <td>36c</td>\n",
       "      <td>863680</td>\n",
       "      <td>150lbs</td>\n",
       "      <td>10</td>\n",
       "      <td>wedding</td>\n",
       "      <td>Absolutely stunning dress. details and tulle m...</td>\n",
       "      <td>hourglass</td>\n",
       "      <td>Made for a princess. Stunning, elegant, great ...</td>\n",
       "      <td>dress</td>\n",
       "      <td>5' 0\"</td>\n",
       "      <td>24</td>\n",
       "      <td>55</td>\n",
       "      <td>July 25, 2017</td>\n",
       "    </tr>\n",
       "    <tr>\n",
       "      <th>192536</th>\n",
       "      <td>large</td>\n",
       "      <td>442241</td>\n",
       "      <td>34d</td>\n",
       "      <td>166633</td>\n",
       "      <td>127lbs</td>\n",
       "      <td>8</td>\n",
       "      <td>wedding</td>\n",
       "      <td>Based on reviews I ordered a 4 and a 6. The 4 ...</td>\n",
       "      <td>full bust</td>\n",
       "      <td>I received so many compliments on the dress, ...</td>\n",
       "      <td>mini</td>\n",
       "      <td>5' 5\"</td>\n",
       "      <td>8</td>\n",
       "      <td>33</td>\n",
       "      <td>April 15, 2014</td>\n",
       "    </tr>\n",
       "    <tr>\n",
       "      <th>192538</th>\n",
       "      <td>large</td>\n",
       "      <td>41453</td>\n",
       "      <td>34d</td>\n",
       "      <td>326784</td>\n",
       "      <td>135lbs</td>\n",
       "      <td>8</td>\n",
       "      <td>wedding</td>\n",
       "      <td>I wore this dress at my rehearsal dinner and i...</td>\n",
       "      <td>hourglass</td>\n",
       "      <td>Perfect rehearsal dinner for the \"not all whit...</td>\n",
       "      <td>dress</td>\n",
       "      <td>5' 2\"</td>\n",
       "      <td>4</td>\n",
       "      <td>27</td>\n",
       "      <td>May 31, 2016</td>\n",
       "    </tr>\n",
       "  </tbody>\n",
       "</table>\n",
       "<p>50486 rows × 15 columns</p>\n",
       "</div>"
      ],
      "text/plain": [
       "          fit user_id bust size  item_id  weight rating     rented for  \\\n",
       "10      small  185966       34b  1077123  135lbs      8          party   \n",
       "11      large  533900       34b   130259  135lbs      8        wedding   \n",
       "13      large  391778       36d   143094  142lbs      8          party   \n",
       "19      small   16800       34c  1229740  135lbs     10  formal affair   \n",
       "27      small  610914       32c  1739627  140lbs     10          party   \n",
       "...       ...     ...       ...      ...     ...    ...            ...   \n",
       "192528  small  597756      38dd   300980  220lbs     10        wedding   \n",
       "192531  small  136279       32b   330238  115lbs      8           date   \n",
       "192532  small  838239       36c   863680  150lbs     10        wedding   \n",
       "192536  large  442241       34d   166633  127lbs      8        wedding   \n",
       "192538  large   41453       34d   326784  135lbs      8        wedding   \n",
       "\n",
       "                                              review_text  body type  \\\n",
       "10      The dress arrived with a small hole in the bea...   athletic   \n",
       "11      This dress was absolutely gorgeous and I recei...       pear   \n",
       "13      I ordered this dress as a replacement because ...      apple   \n",
       "19      super cute, 8 was super tight so i wore the 10...     petite   \n",
       "27      Lovely fabric, heavier than I imagined it woul...  hourglass   \n",
       "...                                                   ...        ...   \n",
       "192528  First time using RTR. I wasn't sure what to ex...  full bust   \n",
       "192531  The dress is very tight around the butt and hi...   athletic   \n",
       "192532  Absolutely stunning dress. details and tulle m...  hourglass   \n",
       "192536  Based on reviews I ordered a 4 and a 6. The 4 ...  full bust   \n",
       "192538  I wore this dress at my rehearsal dinner and i...  hourglass   \n",
       "\n",
       "                                           review_summary category height  \\\n",
       "10      It was fun to wear a dress I wouldn't normally...    dress  5' 3\"   \n",
       "11      Stunning dress, perfect for a New Year's Eve w...    dress  5' 6\"   \n",
       "13                    Ordered this as a replacement dress    dress  5' 2\"   \n",
       "19                                            gala ready      gown  5' 6\"   \n",
       "27                                             Runs small    dress  5' 3\"   \n",
       "...                                                   ...      ...    ...   \n",
       "192528                       I felt fierce in this dress!    dress  5' 4\"   \n",
       "192531    Hot dress. Lots of compliments from strangers.    sheath  5' 6\"   \n",
       "192532  Made for a princess. Stunning, elegant, great ...    dress  5' 0\"   \n",
       "192536   I received so many compliments on the dress, ...     mini  5' 5\"   \n",
       "192538  Perfect rehearsal dinner for the \"not all whit...    dress  5' 2\"   \n",
       "\n",
       "        size age        review_date  \n",
       "10        12  33    January 2, 2018  \n",
       "11         8  30    January 7, 2013  \n",
       "13        20  29    October 4, 2014  \n",
       "19        21  33  November 16, 2017  \n",
       "27         4  32     March 10, 2016  \n",
       "...      ...  ..                ...  \n",
       "192528    35  32  November 12, 2017  \n",
       "192531     4  32       June 2, 2015  \n",
       "192532    24  55      July 25, 2017  \n",
       "192536     8  33     April 15, 2014  \n",
       "192538     4  27       May 31, 2016  \n",
       "\n",
       "[50486 rows x 15 columns]"
      ]
     },
     "execution_count": 710,
     "metadata": {},
     "output_type": "execute_result"
    }
   ],
   "source": [
    "df[~df['fit'].isin(['fit'])]"
   ]
  },
  {
   "cell_type": "markdown",
   "id": "f6fa9e0d",
   "metadata": {},
   "source": [
    "### Cleaning up Data"
   ]
  },
  {
   "cell_type": "markdown",
   "id": "f349f4c0",
   "metadata": {},
   "source": [
    "#### y"
   ]
  },
  {
   "cell_type": "code",
   "execution_count": 819,
   "id": "be637120",
   "metadata": {},
   "outputs": [],
   "source": [
    "y = df.iloc[:, 0].values"
   ]
  },
  {
   "cell_type": "code",
   "execution_count": 820,
   "id": "4dae1cf1",
   "metadata": {},
   "outputs": [
    {
     "data": {
      "text/plain": [
       "(array([    10,     19,     27, ..., 192528, 192531, 192532]),)"
      ]
     },
     "execution_count": 820,
     "metadata": {},
     "output_type": "execute_result"
    }
   ],
   "source": [
    "np.where(y == 'small')"
   ]
  },
  {
   "cell_type": "code",
   "execution_count": 821,
   "id": "6c8a1c65",
   "metadata": {},
   "outputs": [
    {
     "data": {
      "text/plain": [
       "(array([    11,     13,     51, ..., 192525, 192536, 192538]),)"
      ]
     },
     "execution_count": 821,
     "metadata": {},
     "output_type": "execute_result"
    }
   ],
   "source": [
    "np.where(y == 'large')"
   ]
  },
  {
   "cell_type": "code",
   "execution_count": 822,
   "id": "c1ce8681",
   "metadata": {},
   "outputs": [],
   "source": [
    "from sklearn.preprocessing import LabelEncoder\n",
    "le = LabelEncoder()\n",
    "y = le.fit_transform(y)"
   ]
  },
  {
   "cell_type": "code",
   "execution_count": 823,
   "id": "e86280e0",
   "metadata": {},
   "outputs": [
    {
     "data": {
      "text/plain": [
       "array([0, 0, 0, ..., 0, 0, 0])"
      ]
     },
     "execution_count": 823,
     "metadata": {},
     "output_type": "execute_result"
    }
   ],
   "source": [
    "y"
   ]
  },
  {
   "cell_type": "code",
   "execution_count": 824,
   "id": "1de44420",
   "metadata": {},
   "outputs": [
    {
     "data": {
      "text/plain": [
       "(array([    11,     13,     51, ..., 192525, 192536, 192538]),)"
      ]
     },
     "execution_count": 824,
     "metadata": {},
     "output_type": "execute_result"
    }
   ],
   "source": [
    "np.where(y == 1)"
   ]
  },
  {
   "cell_type": "code",
   "execution_count": 825,
   "id": "823ef1b2",
   "metadata": {},
   "outputs": [
    {
     "data": {
      "text/plain": [
       "(array([    10,     19,     27, ..., 192528, 192531, 192532]),)"
      ]
     },
     "execution_count": 825,
     "metadata": {},
     "output_type": "execute_result"
    }
   ],
   "source": [
    "np.where(y == 2)"
   ]
  },
  {
   "cell_type": "code",
   "execution_count": 826,
   "id": "17cf1c0f",
   "metadata": {},
   "outputs": [],
   "source": [
    "### Fit = 0, Large = 1, Small = 2"
   ]
  },
  {
   "cell_type": "code",
   "execution_count": 827,
   "id": "d33f025e",
   "metadata": {},
   "outputs": [
    {
     "data": {
      "text/plain": [
       "{0: 142058, 1: 24707, 2: 25779}"
      ]
     },
     "execution_count": 827,
     "metadata": {},
     "output_type": "execute_result"
    }
   ],
   "source": [
    "unique, counts = np.unique(y, return_counts=True)\n",
    "dict(zip(unique, counts))"
   ]
  },
  {
   "cell_type": "markdown",
   "id": "6564e09e",
   "metadata": {},
   "source": [
    "#### X"
   ]
  },
  {
   "cell_type": "code",
   "execution_count": 828,
   "id": "2fb59e49",
   "metadata": {},
   "outputs": [],
   "source": [
    "X = df.iloc[:, 1:].values"
   ]
  },
  {
   "cell_type": "code",
   "execution_count": 829,
   "id": "782cee0c",
   "metadata": {},
   "outputs": [
    {
     "data": {
      "text/plain": [
       "array([['420272', '34d', '2260466', ..., 14, '28', 'April 20, 2016'],\n",
       "       ['273551', '34b', '153475', ..., 12, '36', 'June 18, 2013'],\n",
       "       ['360448', nan, '1063761', ..., 4, '116', 'December 14, 2015'],\n",
       "       ...,\n",
       "       ['47002', '36a', '683251', ..., 8, '31', 'March 4, 2016'],\n",
       "       ['961120', '36c', '126335', ..., 16, '31', 'November 25, 2015'],\n",
       "       ['123612', '36b', '127865', ..., 16, '30', 'August 29, 2017']],\n",
       "      dtype=object)"
      ]
     },
     "execution_count": 829,
     "metadata": {},
     "output_type": "execute_result"
    }
   ],
   "source": [
    "X"
   ]
  },
  {
   "cell_type": "code",
   "execution_count": 830,
   "id": "a227891d",
   "metadata": {},
   "outputs": [],
   "source": [
    "items_per_user = defaultdict(set)\n",
    "users_per_item = defaultdict(set)\n",
    "\n",
    "for d in X:\n",
    "    user, item = d[0], d[2]\n",
    "    items_per_user[user].add(item)\n",
    "    users_per_item[item].add(user)"
   ]
  },
  {
   "cell_type": "code",
   "execution_count": 831,
   "id": "97db85a8",
   "metadata": {},
   "outputs": [],
   "source": [
    "# Dropping Review Columns\n",
    "X = np.delete(X, 13, 1) #review_date\n",
    "X = np.delete(X, 8, 1) #review_summary\n",
    "X = np.delete(X, 6, 1) #review_text\n",
    "X = np.delete(X, 4, 1) #rating"
   ]
  },
  {
   "cell_type": "code",
   "execution_count": 832,
   "id": "4ba80a59",
   "metadata": {},
   "outputs": [],
   "source": [
    "## Never thought I had to look up bra sizes in my life. Thanks CS.\n",
    "## https://www.evasintimates.com/blog/us-bra-sizes/\n",
    "bra_size_dict = {'aa': 0, 'a': 1, 'b': 2, 'c': 3, 'd': 4, 'dd': 5, 'e': 5, 'ddd': 6, 'f': 6, 'dddd': 7, 'g': 7, 'h': 8, 'i': 9, 'j': 10, 'k': 11, 'l': 12}"
   ]
  },
  {
   "cell_type": "code",
   "execution_count": 833,
   "id": "12615c54",
   "metadata": {},
   "outputs": [],
   "source": [
    "row, col = X.shape"
   ]
  },
  {
   "cell_type": "markdown",
   "id": "8c2510e4",
   "metadata": {},
   "source": [
    "### Convert bust size to numeric"
   ]
  },
  {
   "cell_type": "code",
   "execution_count": 834,
   "id": "8b151a9b",
   "metadata": {},
   "outputs": [],
   "source": [
    "import re\n",
    "# convert bust size to numeric\n",
    "for i in range(row):\n",
    "    if type(X[i][1]) == str:\n",
    "        #not math.isnan(X[i][1]):\n",
    "        split_list = re.split(r'([A-Za-z]+)',X[i][1])\n",
    "        new_val = int(split_list[0]) + bra_size_dict[split_list[1]]\n",
    "        X[i][1] = new_val"
   ]
  },
  {
   "cell_type": "code",
   "execution_count": 835,
   "id": "9b818411",
   "metadata": {},
   "outputs": [
    {
     "data": {
      "text/plain": [
       "array(['420272', 38, '2260466', '137lbs', 'vacation', 'hourglass',\n",
       "       'romper', '5\\' 8\"', 14, '28'], dtype=object)"
      ]
     },
     "execution_count": 835,
     "metadata": {},
     "output_type": "execute_result"
    }
   ],
   "source": [
    "X[0]"
   ]
  },
  {
   "cell_type": "markdown",
   "id": "56bb33aa",
   "metadata": {},
   "source": [
    "### Convert weight to numeric"
   ]
  },
  {
   "cell_type": "code",
   "execution_count": 836,
   "id": "2005ac0e",
   "metadata": {},
   "outputs": [],
   "source": [
    "for i in range(row):\n",
    "    if type(X[i][3]) == str:\n",
    "        split_list = re.split(r'([A-Za-z]+)',X[i][3])\n",
    "        X[i][3] = int(split_list[0])"
   ]
  },
  {
   "cell_type": "code",
   "execution_count": 837,
   "id": "417c19de",
   "metadata": {},
   "outputs": [
    {
     "data": {
      "text/plain": [
       "array(['420272', 38, '2260466', 137, 'vacation', 'hourglass', 'romper',\n",
       "       '5\\' 8\"', 14, '28'], dtype=object)"
      ]
     },
     "execution_count": 837,
     "metadata": {},
     "output_type": "execute_result"
    }
   ],
   "source": [
    "X[0]"
   ]
  },
  {
   "cell_type": "markdown",
   "id": "3254eeaf",
   "metadata": {},
   "source": [
    "### Convert height to inches"
   ]
  },
  {
   "cell_type": "code",
   "execution_count": 838,
   "id": "59b77b2f",
   "metadata": {},
   "outputs": [],
   "source": [
    "for i in range(row):\n",
    "    if type(X[i][7]) == str:\n",
    "        split_list = re.findall(r'[A-Za-z]+|\\d+', X[i][7])\n",
    "        X[i][7] = int(split_list[0]) * 12  + int(split_list[1]) "
   ]
  },
  {
   "cell_type": "code",
   "execution_count": 839,
   "id": "30e7bf4e",
   "metadata": {},
   "outputs": [
    {
     "data": {
      "text/plain": [
       "array(['420272', 38, '2260466', 137, 'vacation', 'hourglass', 'romper',\n",
       "       68, 14, '28'], dtype=object)"
      ]
     },
     "execution_count": 839,
     "metadata": {},
     "output_type": "execute_result"
    }
   ],
   "source": [
    "X[0]"
   ]
  },
  {
   "cell_type": "markdown",
   "id": "a0b8dabf",
   "metadata": {},
   "source": [
    "### Convert categorical data to label"
   ]
  },
  {
   "cell_type": "code",
   "execution_count": 840,
   "id": "2f4939ab",
   "metadata": {},
   "outputs": [],
   "source": [
    "from sklearn.preprocessing import LabelEncoder\n",
    "le = LabelEncoder()\n",
    "X[:, 4] = le.fit_transform(X[:, 4])\n",
    "X[:, 5] = le.fit_transform(X[:, 5])\n",
    "X[:, 6] = le.fit_transform(X[:, 6])"
   ]
  },
  {
   "cell_type": "code",
   "execution_count": 808,
   "id": "ce28dfff",
   "metadata": {},
   "outputs": [],
   "source": [
    "#X[:, 0] = le.fit_transform(X[:, 0])\n",
    "#X[:, 2] = le.fit_transform(X[:, 2])"
   ]
  },
  {
   "cell_type": "markdown",
   "id": "241d68f3",
   "metadata": {},
   "source": [
    "### Convert 'String' age to Numeric"
   ]
  },
  {
   "cell_type": "code",
   "execution_count": 841,
   "id": "030edcba",
   "metadata": {},
   "outputs": [],
   "source": [
    "for i in range(row):\n",
    "    if type(X[i][9]) == str:\n",
    "        X[i][9] = int(X[i][9])"
   ]
  },
  {
   "cell_type": "code",
   "execution_count": 842,
   "id": "3e0583f6",
   "metadata": {},
   "outputs": [
    {
     "data": {
      "text/plain": [
       "array(['420272', 38, '2260466', 137, 6, 3, 44, 68, 14, 28], dtype=object)"
      ]
     },
     "execution_count": 842,
     "metadata": {},
     "output_type": "execute_result"
    }
   ],
   "source": [
    "X[0]"
   ]
  },
  {
   "cell_type": "markdown",
   "id": "12ecaf5d",
   "metadata": {},
   "source": [
    "### Drop user id and item for model"
   ]
  },
  {
   "cell_type": "code",
   "execution_count": 843,
   "id": "a2435eac",
   "metadata": {},
   "outputs": [],
   "source": [
    "features_X = np.delete(X, 2, 1) #item\n",
    "features_X = np.delete(features_X, 0, 1) #user"
   ]
  },
  {
   "cell_type": "code",
   "execution_count": 844,
   "id": "95c9cdec",
   "metadata": {},
   "outputs": [
    {
     "data": {
      "text/plain": [
       "array([38, 137, 6, 3, 44, 68, 14, 28], dtype=object)"
      ]
     },
     "execution_count": 844,
     "metadata": {},
     "output_type": "execute_result"
    }
   ],
   "source": [
    "features_X[0]"
   ]
  },
  {
   "cell_type": "code",
   "execution_count": 845,
   "id": "cf19a4ad",
   "metadata": {},
   "outputs": [],
   "source": [
    "### Test drop categorical data\n",
    "#features_X = np.delete(features_X, 4, 1)\n",
    "#features_X = np.delete(features_X, 3, 1)\n",
    "#features_X = np.delete(features_X, 2, 1)"
   ]
  },
  {
   "cell_type": "code",
   "execution_count": 846,
   "id": "02fde51a",
   "metadata": {},
   "outputs": [],
   "source": [
    "#features_X = np.delete(features_X, 4, 1) #Drop age"
   ]
  },
  {
   "cell_type": "code",
   "execution_count": null,
   "id": "c019e18b",
   "metadata": {},
   "outputs": [],
   "source": []
  },
  {
   "cell_type": "code",
   "execution_count": 847,
   "id": "1217b432",
   "metadata": {},
   "outputs": [
    {
     "data": {
      "text/plain": [
       "array([38, 137, 6, 3, 44, 68, 14, 28], dtype=object)"
      ]
     },
     "execution_count": 847,
     "metadata": {},
     "output_type": "execute_result"
    }
   ],
   "source": [
    "features_X[0]"
   ]
  },
  {
   "cell_type": "markdown",
   "id": "ac5aefbd",
   "metadata": {},
   "source": [
    "### Take care of missing data"
   ]
  },
  {
   "cell_type": "code",
   "execution_count": 848,
   "id": "82f9a609",
   "metadata": {},
   "outputs": [],
   "source": [
    "from sklearn.impute import SimpleImputer\n",
    "imputer = SimpleImputer(missing_values=np.nan, strategy='mean')\n",
    "imputer.fit(features_X)\n",
    "features_X = imputer.transform(features_X)"
   ]
  },
  {
   "cell_type": "code",
   "execution_count": 849,
   "id": "abef1554",
   "metadata": {},
   "outputs": [
    {
     "data": {
      "text/plain": [
       "array([ 38., 137.,   6.,   3.,  44.,  68.,  14.,  28.])"
      ]
     },
     "execution_count": 849,
     "metadata": {},
     "output_type": "execute_result"
    }
   ],
   "source": [
    "features_X[0] #Float"
   ]
  },
  {
   "cell_type": "markdown",
   "id": "f36933ca",
   "metadata": {},
   "source": [
    "### Jaccard"
   ]
  },
  {
   "cell_type": "code",
   "execution_count": 36,
   "id": "94cfff7d",
   "metadata": {},
   "outputs": [],
   "source": [
    "def Jaccard(s1, s2):\n",
    "    numer = len(s1.intersection(s2))\n",
    "    denom = len(s1.union(s2))\n",
    "    if denom == 0:\n",
    "        return 0\n",
    "    return numer / denom"
   ]
  },
  {
   "cell_type": "code",
   "execution_count": 37,
   "id": "673feeb5",
   "metadata": {},
   "outputs": [],
   "source": [
    "def most_similar(i, N):\n",
    "    similarities = []\n",
    "    recipes = items_per_user[i]\n",
    "    for i2 in items_per_user:\n",
    "        if i2 == i: continue\n",
    "        sim = Jaccard(recipes, items_per_user[i2])\n",
    "        #sim = Pearson(i, i2) # Could use alternate similarity metrics straightforwardly\n",
    "        similarities.append((sim,i2))\n",
    "    #similarities.sort(reverse=True)\n",
    "    similarities.sort(key=lambda x: x[1])\n",
    "    similarities.sort(key=lambda x: x[0], reverse=True)\n",
    "    return similarities[:N]"
   ]
  },
  {
   "cell_type": "markdown",
   "id": "9e559f16",
   "metadata": {},
   "source": [
    "### Combination"
   ]
  },
  {
   "cell_type": "code",
   "execution_count": 850,
   "id": "b784bd67",
   "metadata": {},
   "outputs": [],
   "source": [
    "from imblearn.combine import SMOTEENN\n",
    "smote_enn = SMOTEENN(random_state=0)\n",
    "#X_resampled, y_resampled = smote_enn.fit_resample(X, y)\n",
    "features_X, y = smote_enn.fit_resample(features_X, y)"
   ]
  },
  {
   "cell_type": "markdown",
   "id": "e4e7b1e0",
   "metadata": {},
   "source": [
    "## Train and Test"
   ]
  },
  {
   "cell_type": "code",
   "execution_count": 851,
   "id": "17ef3113",
   "metadata": {},
   "outputs": [],
   "source": [
    "from sklearn.model_selection import train_test_split\n",
    "X_train, X_test, y_train, y_test = train_test_split(features_X, y, test_size = 0.5, random_state = 42)"
   ]
  },
  {
   "cell_type": "code",
   "execution_count": 852,
   "id": "d0fa7bd2",
   "metadata": {},
   "outputs": [],
   "source": [
    "from sklearn.preprocessing import StandardScaler\n",
    "sc = StandardScaler()\n",
    "X_train = sc.fit_transform(X_train)\n",
    "X_test = sc.transform(X_test)"
   ]
  },
  {
   "cell_type": "code",
   "execution_count": 853,
   "id": "c11ebbf4",
   "metadata": {},
   "outputs": [],
   "source": [
    "from sklearn.metrics import accuracy_score"
   ]
  },
  {
   "cell_type": "code",
   "execution_count": 854,
   "id": "3ea6fe4e",
   "metadata": {},
   "outputs": [],
   "source": [
    "from sklearn.utils import class_weight"
   ]
  },
  {
   "cell_type": "code",
   "execution_count": 855,
   "id": "f646df99",
   "metadata": {},
   "outputs": [],
   "source": [
    "from sklearn.metrics import f1_score"
   ]
  },
  {
   "cell_type": "markdown",
   "id": "280aca36",
   "metadata": {},
   "source": [
    "### Always Fit"
   ]
  },
  {
   "cell_type": "code",
   "execution_count": 856,
   "id": "99cd0cb4",
   "metadata": {},
   "outputs": [],
   "source": [
    "def AlwaysFit(y):\n",
    "    row = len(y)\n",
    "    y_pred = []\n",
    "    for i in range(row):\n",
    "        y_pred.append(0)\n",
    "    return np.array(y_pred)"
   ]
  },
  {
   "cell_type": "code",
   "execution_count": 857,
   "id": "653085e3",
   "metadata": {},
   "outputs": [],
   "source": [
    "y_pred = AlwaysFit(y_test)"
   ]
  },
  {
   "cell_type": "code",
   "execution_count": 858,
   "id": "f61d66a4",
   "metadata": {},
   "outputs": [
    {
     "data": {
      "text/plain": [
       "0.1604061443886572"
      ]
     },
     "execution_count": 858,
     "metadata": {},
     "output_type": "execute_result"
    }
   ],
   "source": [
    "accuracy_score(y_test, y_pred)"
   ]
  },
  {
   "cell_type": "code",
   "execution_count": 859,
   "id": "1c2bce10",
   "metadata": {},
   "outputs": [
    {
     "data": {
      "text/plain": [
       "0.04434676821052216"
      ]
     },
     "execution_count": 859,
     "metadata": {},
     "output_type": "execute_result"
    }
   ],
   "source": [
    "f1_score(y_test, y_pred, zero_division=1, average='weighted')"
   ]
  },
  {
   "cell_type": "markdown",
   "id": "29fd6aed",
   "metadata": {},
   "source": [
    "### Random Classifier"
   ]
  },
  {
   "cell_type": "code",
   "execution_count": 895,
   "id": "743744a5",
   "metadata": {},
   "outputs": [],
   "source": [
    "import random\n",
    "def RandomClassifier(y):\n",
    "    row = len(y)\n",
    "    y_pred = []\n",
    "    for i in range(row):\n",
    "        curr_val = random.randint(0, 2)\n",
    "        y_pred.append(curr_val)\n",
    "    return np.array(y_pred)"
   ]
  },
  {
   "cell_type": "code",
   "execution_count": 896,
   "id": "6a540f66",
   "metadata": {},
   "outputs": [],
   "source": [
    "y_pred = RandomClassifier(y_test)"
   ]
  },
  {
   "cell_type": "code",
   "execution_count": 897,
   "id": "a7a4c632",
   "metadata": {},
   "outputs": [
    {
     "data": {
      "text/plain": [
       "0.3346214964078155"
      ]
     },
     "execution_count": 897,
     "metadata": {},
     "output_type": "execute_result"
    }
   ],
   "source": [
    "accuracy_score(y_test, y_pred)"
   ]
  },
  {
   "cell_type": "markdown",
   "id": "27f978e0",
   "metadata": {},
   "source": [
    "### Logistic Regression"
   ]
  },
  {
   "cell_type": "code",
   "execution_count": 860,
   "id": "c7dca652",
   "metadata": {},
   "outputs": [
    {
     "data": {
      "text/plain": [
       "LogisticRegression(random_state=42)"
      ]
     },
     "execution_count": 860,
     "metadata": {},
     "output_type": "execute_result"
    }
   ],
   "source": [
    "from sklearn.linear_model import LogisticRegression\n",
    "lg_classifier = LogisticRegression(random_state = 42)\n",
    "lg_classifier.fit(X_train, y_train)"
   ]
  },
  {
   "cell_type": "code",
   "execution_count": 861,
   "id": "2cce4108",
   "metadata": {},
   "outputs": [],
   "source": [
    "y_pred = lg_classifier.predict(X_test)"
   ]
  },
  {
   "cell_type": "code",
   "execution_count": 862,
   "id": "fb7c4e75",
   "metadata": {},
   "outputs": [
    {
     "data": {
      "text/plain": [
       "0.5739587141247827"
      ]
     },
     "execution_count": 862,
     "metadata": {},
     "output_type": "execute_result"
    }
   ],
   "source": [
    "accuracy_score(y_test, y_pred)"
   ]
  },
  {
   "cell_type": "code",
   "execution_count": 863,
   "id": "d793a4e1",
   "metadata": {},
   "outputs": [
    {
     "data": {
      "text/plain": [
       "0.5241001740833178"
      ]
     },
     "execution_count": 863,
     "metadata": {},
     "output_type": "execute_result"
    }
   ],
   "source": [
    "f1_score(y_test, y_pred, zero_division=1, average='weighted')"
   ]
  },
  {
   "cell_type": "markdown",
   "id": "0bdb97ee",
   "metadata": {},
   "source": [
    "### KNN"
   ]
  },
  {
   "cell_type": "code",
   "execution_count": 864,
   "id": "d56090ef",
   "metadata": {},
   "outputs": [
    {
     "data": {
      "text/plain": [
       "KNeighborsClassifier()"
      ]
     },
     "execution_count": 864,
     "metadata": {},
     "output_type": "execute_result"
    }
   ],
   "source": [
    "from sklearn.neighbors import KNeighborsClassifier\n",
    "knn_classifier = KNeighborsClassifier(n_neighbors = 5, metric = 'minkowski', p = 2)\n",
    "knn_classifier.fit(X_train, y_train)"
   ]
  },
  {
   "cell_type": "code",
   "execution_count": 865,
   "id": "b0809167",
   "metadata": {},
   "outputs": [],
   "source": [
    "y_pred = knn_classifier.predict(X_test)"
   ]
  },
  {
   "cell_type": "code",
   "execution_count": 866,
   "id": "99c622df",
   "metadata": {},
   "outputs": [
    {
     "data": {
      "text/plain": [
       "0.769592885758835"
      ]
     },
     "execution_count": 866,
     "metadata": {},
     "output_type": "execute_result"
    }
   ],
   "source": [
    "accuracy_score(y_test, y_pred)"
   ]
  },
  {
   "cell_type": "code",
   "execution_count": 867,
   "id": "5188bde2",
   "metadata": {},
   "outputs": [
    {
     "data": {
      "text/plain": [
       "0.7567687922724982"
      ]
     },
     "execution_count": 867,
     "metadata": {},
     "output_type": "execute_result"
    }
   ],
   "source": [
    "f1_score(y_test, y_pred, zero_division=1, average='weighted')"
   ]
  },
  {
   "cell_type": "markdown",
   "id": "71cd3a33",
   "metadata": {},
   "source": [
    "### Support Vector Machine"
   ]
  },
  {
   "cell_type": "code",
   "execution_count": 755,
   "id": "f01f207f",
   "metadata": {},
   "outputs": [
    {
     "data": {
      "text/plain": [
       "SVC(kernel='linear', random_state=42)"
      ]
     },
     "execution_count": 755,
     "metadata": {},
     "output_type": "execute_result"
    }
   ],
   "source": [
    "from sklearn.svm import SVC\n",
    "svm_classifier = SVC(kernel = 'linear', random_state = 42)\n",
    "svm_classifier.fit(X_train, y_train)"
   ]
  },
  {
   "cell_type": "code",
   "execution_count": 49,
   "id": "f4ac551f",
   "metadata": {},
   "outputs": [],
   "source": [
    "y_pred = svm_classifier.predict(X_test)"
   ]
  },
  {
   "cell_type": "code",
   "execution_count": 52,
   "id": "4d0270b1",
   "metadata": {},
   "outputs": [
    {
     "data": {
      "text/plain": [
       "0.7343152733920558"
      ]
     },
     "execution_count": 52,
     "metadata": {},
     "output_type": "execute_result"
    }
   ],
   "source": [
    "accuracy_score(y_test, y_pred)"
   ]
  },
  {
   "cell_type": "code",
   "execution_count": 727,
   "id": "59449d66",
   "metadata": {},
   "outputs": [
    {
     "data": {
      "text/plain": [
       "0.6332624225255479"
      ]
     },
     "execution_count": 727,
     "metadata": {},
     "output_type": "execute_result"
    }
   ],
   "source": [
    "f1_score(y_test, y_pred, zero_division=1, average='weighted')"
   ]
  },
  {
   "cell_type": "markdown",
   "id": "3da06e8c",
   "metadata": {},
   "source": [
    "### Naive Bayes"
   ]
  },
  {
   "cell_type": "code",
   "execution_count": 868,
   "id": "26816362",
   "metadata": {},
   "outputs": [
    {
     "data": {
      "text/plain": [
       "GaussianNB()"
      ]
     },
     "execution_count": 868,
     "metadata": {},
     "output_type": "execute_result"
    }
   ],
   "source": [
    "# Much faster than SVC but similar accuracy\n",
    "from sklearn.naive_bayes import GaussianNB\n",
    "nb_classifier = GaussianNB()\n",
    "nb_classifier.fit(X_train, y_train)"
   ]
  },
  {
   "cell_type": "code",
   "execution_count": 869,
   "id": "0cc36eb5",
   "metadata": {},
   "outputs": [],
   "source": [
    "y_pred = nb_classifier.predict(X_test)"
   ]
  },
  {
   "cell_type": "code",
   "execution_count": 870,
   "id": "e717e8a9",
   "metadata": {},
   "outputs": [
    {
     "data": {
      "text/plain": [
       "0.5240933744152908"
      ]
     },
     "execution_count": 870,
     "metadata": {},
     "output_type": "execute_result"
    }
   ],
   "source": [
    "from sklearn.metrics import accuracy_score\n",
    "accuracy_score(y_test, y_pred)"
   ]
  },
  {
   "cell_type": "code",
   "execution_count": 871,
   "id": "de1ebbca",
   "metadata": {},
   "outputs": [
    {
     "data": {
      "text/plain": [
       "array([0.36419753, 0.51859074, 0.53092924])"
      ]
     },
     "execution_count": 871,
     "metadata": {},
     "output_type": "execute_result"
    }
   ],
   "source": [
    "from sklearn.metrics import precision_score\n",
    "precision_score(y_test, y_pred, average=None)"
   ]
  },
  {
   "cell_type": "code",
   "execution_count": 872,
   "id": "9017c071",
   "metadata": {},
   "outputs": [
    {
     "data": {
      "text/plain": [
       "0.4807297183530565"
      ]
     },
     "execution_count": 872,
     "metadata": {},
     "output_type": "execute_result"
    }
   ],
   "source": [
    "f1_score(y_test, y_pred, zero_division=1, average='weighted') # Take label imbalance into account"
   ]
  },
  {
   "cell_type": "markdown",
   "id": "1bb5f68f",
   "metadata": {},
   "source": [
    "### Decision Tree"
   ]
  },
  {
   "cell_type": "code",
   "execution_count": 873,
   "id": "f07bf076",
   "metadata": {},
   "outputs": [
    {
     "data": {
      "text/plain": [
       "DecisionTreeClassifier(criterion='entropy', random_state=42)"
      ]
     },
     "execution_count": 873,
     "metadata": {},
     "output_type": "execute_result"
    }
   ],
   "source": [
    "from sklearn.tree import DecisionTreeClassifier\n",
    "dt_classifier = DecisionTreeClassifier(criterion = 'entropy', random_state = 42)\n",
    "dt_classifier.fit(X_train, y_train)"
   ]
  },
  {
   "cell_type": "code",
   "execution_count": 874,
   "id": "0ebda717",
   "metadata": {},
   "outputs": [],
   "source": [
    "y_pred = dt_classifier.predict(X_test)"
   ]
  },
  {
   "cell_type": "code",
   "execution_count": 875,
   "id": "a5bcda1e",
   "metadata": {},
   "outputs": [
    {
     "data": {
      "text/plain": [
       "0.7322684850157788"
      ]
     },
     "execution_count": 875,
     "metadata": {},
     "output_type": "execute_result"
    }
   ],
   "source": [
    "accuracy_score(y_test, y_pred)"
   ]
  },
  {
   "cell_type": "markdown",
   "id": "54984fea",
   "metadata": {},
   "source": [
    "### Random Forest"
   ]
  },
  {
   "cell_type": "code",
   "execution_count": 889,
   "id": "b2921115",
   "metadata": {},
   "outputs": [
    {
     "data": {
      "text/plain": [
       "RandomForestClassifier(criterion='entropy', n_estimators=200, random_state=42)"
      ]
     },
     "execution_count": 889,
     "metadata": {},
     "output_type": "execute_result"
    }
   ],
   "source": [
    "from sklearn.ensemble import RandomForestClassifier\n",
    "rf_classifier = RandomForestClassifier(n_estimators = 200, criterion = 'entropy', random_state = 42)\n",
    "rf_classifier.fit(X_train, y_train)"
   ]
  },
  {
   "cell_type": "code",
   "execution_count": 890,
   "id": "196de3dc",
   "metadata": {},
   "outputs": [],
   "source": [
    "y_pred = rf_classifier.predict(X_test)"
   ]
  },
  {
   "cell_type": "code",
   "execution_count": 891,
   "id": "f168e3dd",
   "metadata": {},
   "outputs": [
    {
     "data": {
      "text/plain": [
       "0.8381987600808708"
      ]
     },
     "execution_count": 891,
     "metadata": {},
     "output_type": "execute_result"
    }
   ],
   "source": [
    "accuracy_score(y_test, y_pred)"
   ]
  },
  {
   "cell_type": "markdown",
   "id": "5708d540",
   "metadata": {},
   "source": [
    "### AdaBooster"
   ]
  },
  {
   "cell_type": "code",
   "execution_count": 882,
   "id": "64c4e925",
   "metadata": {},
   "outputs": [
    {
     "data": {
      "text/plain": [
       "AdaBoostClassifier(n_estimators=100, random_state=0)"
      ]
     },
     "execution_count": 882,
     "metadata": {},
     "output_type": "execute_result"
    }
   ],
   "source": [
    "from sklearn.ensemble import AdaBoostClassifier\n",
    "ab_classifier = AdaBoostClassifier(n_estimators=100, random_state=0)\n",
    "ab_classifier.fit(X_train, y_train)"
   ]
  },
  {
   "cell_type": "code",
   "execution_count": 883,
   "id": "fa69085a",
   "metadata": {},
   "outputs": [],
   "source": [
    "y_pred = ab_classifier.predict(X_test)"
   ]
  },
  {
   "cell_type": "code",
   "execution_count": 884,
   "id": "f10513a5",
   "metadata": {},
   "outputs": [
    {
     "data": {
      "text/plain": [
       "0.5991599585201542"
      ]
     },
     "execution_count": 884,
     "metadata": {},
     "output_type": "execute_result"
    }
   ],
   "source": [
    "accuracy_score(y_test, y_pred)"
   ]
  },
  {
   "cell_type": "markdown",
   "id": "5ac791b5",
   "metadata": {},
   "source": [
    "### Bagging Classifier"
   ]
  },
  {
   "cell_type": "code",
   "execution_count": 885,
   "id": "21c529a0",
   "metadata": {},
   "outputs": [
    {
     "data": {
      "text/plain": [
       "BaggingClassifier(base_estimator=GaussianNB(), random_state=0)"
      ]
     },
     "execution_count": 885,
     "metadata": {},
     "output_type": "execute_result"
    }
   ],
   "source": [
    "from sklearn.ensemble import BaggingClassifier\n",
    "bc = BaggingClassifier(base_estimator=GaussianNB(), random_state=0)\n",
    "bc.fit(X_train, y_train)"
   ]
  },
  {
   "cell_type": "code",
   "execution_count": 886,
   "id": "5176d178",
   "metadata": {},
   "outputs": [],
   "source": [
    "y_pred = bc.predict(X_test)"
   ]
  },
  {
   "cell_type": "code",
   "execution_count": 887,
   "id": "dfb9dfe0",
   "metadata": {},
   "outputs": [
    {
     "data": {
      "text/plain": [
       "0.5244738550145105"
      ]
     },
     "execution_count": 887,
     "metadata": {},
     "output_type": "execute_result"
    }
   ],
   "source": [
    "accuracy_score(y_test, y_pred)"
   ]
  },
  {
   "cell_type": "markdown",
   "id": "e4709653",
   "metadata": {},
   "source": [
    "### Gradient Boosting Classifier"
   ]
  },
  {
   "cell_type": "code",
   "execution_count": 892,
   "id": "9d36ee77",
   "metadata": {},
   "outputs": [
    {
     "data": {
      "text/plain": [
       "GradientBoostingClassifier(learning_rate=1.0, random_state=0)"
      ]
     },
     "execution_count": 892,
     "metadata": {},
     "output_type": "execute_result"
    }
   ],
   "source": [
    "from sklearn.ensemble import GradientBoostingClassifier\n",
    "gbc = GradientBoostingClassifier(n_estimators=100, learning_rate=1.0, random_state=0)\n",
    "gbc.fit(X_train, y_train)"
   ]
  },
  {
   "cell_type": "code",
   "execution_count": 893,
   "id": "0f376a26",
   "metadata": {},
   "outputs": [],
   "source": [
    "y_pred = gbc.predict(X_test)"
   ]
  },
  {
   "cell_type": "code",
   "execution_count": 894,
   "id": "abd5c70d",
   "metadata": {},
   "outputs": [
    {
     "data": {
      "text/plain": [
       "0.6989652419782006"
      ]
     },
     "execution_count": 894,
     "metadata": {},
     "output_type": "execute_result"
    }
   ],
   "source": [
    "accuracy_score(y_test, y_pred)"
   ]
  },
  {
   "cell_type": "markdown",
   "id": "e60460df",
   "metadata": {},
   "source": [
    "## Idea: Split the labels to (fit and small) and (fit and large)"
   ]
  },
  {
   "cell_type": "code",
   "execution_count": 256,
   "id": "8b00684d",
   "metadata": {},
   "outputs": [],
   "source": [
    "### Split the features_X, y\n",
    "### Fit = 0, Large = 1, Small = 2\n",
    "small_X = []\n",
    "small_y = []\n",
    "large_X = []\n",
    "large_y = []\n",
    "row_num, col_num = features_X.shape\n",
    "flag = True\n",
    "for i in range(row_num):\n",
    "    if y[i] == 1:\n",
    "        large_X.append(features_X[i])\n",
    "        large_y.append(y[i])\n",
    "    elif y[i] == 2:\n",
    "        small_X.append(features_X[i])\n",
    "        small_y.append(y[i])\n",
    "    else:\n",
    "        # Fit\n",
    "        if flag is True:\n",
    "            large_X.append(features_X[i])\n",
    "            large_y.append(y[i])\n",
    "            flag = False\n",
    "        else:\n",
    "            small_X.append(features_X[i])\n",
    "            small_y.append(y[i])\n",
    "            flag = True\n",
    "\n",
    "small_X = np.array(small_X)\n",
    "small_y = np.array(small_y)\n",
    "large_X = np.array(large_X)\n",
    "large_y = np.array(large_y)"
   ]
  },
  {
   "cell_type": "markdown",
   "id": "5af95417",
   "metadata": {},
   "source": [
    "## Train and Test"
   ]
  },
  {
   "cell_type": "code",
   "execution_count": 257,
   "id": "e0c8f9e1",
   "metadata": {},
   "outputs": [],
   "source": [
    "small_X_train, small_X_test, small_y_train, small_y_test = train_test_split(small_X, small_y, test_size = 0.25, random_state = 42)"
   ]
  },
  {
   "cell_type": "code",
   "execution_count": 258,
   "id": "6e43fba6",
   "metadata": {},
   "outputs": [],
   "source": [
    "large_X_train, large_X_test, large_y_train, large_y_test = train_test_split(large_X, large_y, test_size = 0.25, random_state = 42)"
   ]
  },
  {
   "cell_type": "code",
   "execution_count": 260,
   "id": "d3cae777",
   "metadata": {},
   "outputs": [],
   "source": [
    "sc = StandardScaler()\n",
    "small_X_train = sc.fit_transform(small_X_train)\n",
    "small_X_test = sc.transform(small_X_test)\n",
    "large_X_train = sc.fit_transform(large_X_train)\n",
    "large_X_test = sc.transform(large_X_test)"
   ]
  },
  {
   "cell_type": "markdown",
   "id": "827d9ac6",
   "metadata": {},
   "source": [
    "### Dual Logistic Regression"
   ]
  },
  {
   "cell_type": "code",
   "execution_count": 261,
   "id": "8f68e9d7",
   "metadata": {},
   "outputs": [
    {
     "data": {
      "text/plain": [
       "LogisticRegression(random_state=42)"
      ]
     },
     "execution_count": 261,
     "metadata": {},
     "output_type": "execute_result"
    }
   ],
   "source": [
    "from sklearn.linear_model import LogisticRegression\n",
    "s_lg_classifier = LogisticRegression(random_state = 42)\n",
    "s_lg_classifier.fit(small_X_train, small_y_train)"
   ]
  },
  {
   "cell_type": "code",
   "execution_count": 262,
   "id": "b81ba0ee",
   "metadata": {},
   "outputs": [
    {
     "data": {
      "text/plain": [
       "LogisticRegression(random_state=42)"
      ]
     },
     "execution_count": 262,
     "metadata": {},
     "output_type": "execute_result"
    }
   ],
   "source": [
    "l_lg_classifier = LogisticRegression(random_state = 42)\n",
    "l_lg_classifier.fit(large_X_train, large_y_train)"
   ]
  },
  {
   "cell_type": "code",
   "execution_count": 263,
   "id": "87bb280f",
   "metadata": {},
   "outputs": [],
   "source": [
    "y_pred = s_lg_classifier.predict(small_X_test)"
   ]
  },
  {
   "cell_type": "code",
   "execution_count": 264,
   "id": "4d237e59",
   "metadata": {},
   "outputs": [
    {
     "data": {
      "text/plain": [
       "0.726716800264441"
      ]
     },
     "execution_count": 264,
     "metadata": {},
     "output_type": "execute_result"
    }
   ],
   "source": [
    "accuracy_score(small_y_test, y_pred)"
   ]
  },
  {
   "cell_type": "code",
   "execution_count": 265,
   "id": "f3a0c562",
   "metadata": {},
   "outputs": [],
   "source": [
    "y_pred = l_lg_classifier.predict(large_X_test)"
   ]
  },
  {
   "cell_type": "code",
   "execution_count": 266,
   "id": "54f14eb7",
   "metadata": {},
   "outputs": [
    {
     "data": {
      "text/plain": [
       "0.7418734854182335"
      ]
     },
     "execution_count": 266,
     "metadata": {},
     "output_type": "execute_result"
    }
   ],
   "source": [
    "accuracy_score(large_y_test, y_pred)"
   ]
  },
  {
   "cell_type": "code",
   "execution_count": 92,
   "id": "cc210e61",
   "metadata": {},
   "outputs": [],
   "source": [
    "## Much higher!"
   ]
  },
  {
   "cell_type": "markdown",
   "id": "ca8b6265",
   "metadata": {},
   "source": [
    "### Dual KNN"
   ]
  },
  {
   "cell_type": "code",
   "execution_count": 267,
   "id": "8ed24c77",
   "metadata": {},
   "outputs": [
    {
     "data": {
      "text/plain": [
       "KNeighborsClassifier()"
      ]
     },
     "execution_count": 267,
     "metadata": {},
     "output_type": "execute_result"
    }
   ],
   "source": [
    "from sklearn.neighbors import KNeighborsClassifier\n",
    "s_knn_classifier = KNeighborsClassifier(n_neighbors = 5, metric = 'minkowski', p = 2)\n",
    "s_knn_classifier.fit(small_X_train, small_y_train)"
   ]
  },
  {
   "cell_type": "code",
   "execution_count": 268,
   "id": "0cf37743",
   "metadata": {},
   "outputs": [
    {
     "data": {
      "text/plain": [
       "KNeighborsClassifier()"
      ]
     },
     "execution_count": 268,
     "metadata": {},
     "output_type": "execute_result"
    }
   ],
   "source": [
    "l_knn_classifier = KNeighborsClassifier(n_neighbors = 5, metric = 'minkowski', p = 2)\n",
    "l_knn_classifier.fit(large_X_train, large_y_train)"
   ]
  },
  {
   "cell_type": "code",
   "execution_count": 269,
   "id": "b12f359b",
   "metadata": {},
   "outputs": [],
   "source": [
    "y_pred = s_knn_classifier.predict(small_X_test)"
   ]
  },
  {
   "cell_type": "code",
   "execution_count": 270,
   "id": "b99bb9e7",
   "metadata": {},
   "outputs": [
    {
     "data": {
      "text/plain": [
       "0.696182133707958"
      ]
     },
     "execution_count": 270,
     "metadata": {},
     "output_type": "execute_result"
    }
   ],
   "source": [
    "accuracy_score(small_y_test, y_pred)"
   ]
  },
  {
   "cell_type": "code",
   "execution_count": 271,
   "id": "cd09af2c",
   "metadata": {},
   "outputs": [],
   "source": [
    "y_pred = l_knn_classifier.predict(large_X_test)"
   ]
  },
  {
   "cell_type": "code",
   "execution_count": 272,
   "id": "2c863130",
   "metadata": {},
   "outputs": [
    {
     "data": {
      "text/plain": [
       "0.704729673268154"
      ]
     },
     "execution_count": 272,
     "metadata": {},
     "output_type": "execute_result"
    }
   ],
   "source": [
    "accuracy_score(large_y_test, y_pred)"
   ]
  },
  {
   "cell_type": "markdown",
   "id": "f8d94c5e",
   "metadata": {},
   "source": [
    "### Dual SVM"
   ]
  },
  {
   "cell_type": "code",
   "execution_count": 273,
   "id": "7023407a",
   "metadata": {},
   "outputs": [
    {
     "data": {
      "text/plain": [
       "SVC(kernel='linear', random_state=42)"
      ]
     },
     "execution_count": 273,
     "metadata": {},
     "output_type": "execute_result"
    }
   ],
   "source": [
    "from sklearn.svm import SVC\n",
    "s_svm_classifier = SVC(kernel = 'linear', random_state = 42)\n",
    "s_svm_classifier.fit(small_X_train, small_y_train)"
   ]
  },
  {
   "cell_type": "code",
   "execution_count": 274,
   "id": "403b3244",
   "metadata": {},
   "outputs": [
    {
     "data": {
      "text/plain": [
       "SVC(kernel='linear', random_state=42)"
      ]
     },
     "execution_count": 274,
     "metadata": {},
     "output_type": "execute_result"
    }
   ],
   "source": [
    "l_svm_classifier = SVC(kernel = 'linear', random_state = 42)\n",
    "l_svm_classifier.fit(large_X_train, large_y_train)"
   ]
  },
  {
   "cell_type": "code",
   "execution_count": 275,
   "id": "afbff762",
   "metadata": {},
   "outputs": [],
   "source": [
    "y_pred = s_svm_classifier.predict(small_X_test)"
   ]
  },
  {
   "cell_type": "code",
   "execution_count": 276,
   "id": "b7b8a4b5",
   "metadata": {},
   "outputs": [
    {
     "data": {
      "text/plain": [
       "0.7324188083629453"
      ]
     },
     "execution_count": 276,
     "metadata": {},
     "output_type": "execute_result"
    }
   ],
   "source": [
    "accuracy_score(small_y_test, y_pred)"
   ]
  },
  {
   "cell_type": "code",
   "execution_count": 277,
   "id": "4d889556",
   "metadata": {},
   "outputs": [],
   "source": [
    "y_pred = l_svm_classifier.predict(large_X_test)"
   ]
  },
  {
   "cell_type": "code",
   "execution_count": 278,
   "id": "de34c75f",
   "metadata": {},
   "outputs": [
    {
     "data": {
      "text/plain": [
       "0.7418734854182335"
      ]
     },
     "execution_count": 278,
     "metadata": {},
     "output_type": "execute_result"
    }
   ],
   "source": [
    "accuracy_score(large_y_test, y_pred)"
   ]
  },
  {
   "cell_type": "markdown",
   "id": "3ee91c50",
   "metadata": {},
   "source": [
    "### Dual Naive Bayes"
   ]
  },
  {
   "cell_type": "code",
   "execution_count": 609,
   "id": "b470804f",
   "metadata": {},
   "outputs": [
    {
     "name": "stderr",
     "output_type": "stream",
     "text": [
      "/Users/evangelurtz/opt/anaconda3/lib/python3.8/site-packages/sklearn/utils/validation.py:70: FutureWarning: Pass classes=[0 2], y=[0 0 0 ... 0 2 0] as keyword args. From version 1.0 (renaming of 0.25) passing these as positional arguments will result in an error\n",
      "  warnings.warn(f\"Pass {args_msg} as keyword args. From version \"\n"
     ]
    }
   ],
   "source": [
    "cw_s = class_weight.compute_class_weight('balanced', np.unique(small_y_train), small_y_train)"
   ]
  },
  {
   "cell_type": "code",
   "execution_count": 614,
   "id": "215cf3fa",
   "metadata": {},
   "outputs": [
    {
     "data": {
      "text/plain": [
       "array([0.68106861, 1.88069212])"
      ]
     },
     "execution_count": 614,
     "metadata": {},
     "output_type": "execute_result"
    }
   ],
   "source": [
    "cw_s"
   ]
  },
  {
   "cell_type": "code",
   "execution_count": 610,
   "id": "ef1a302b",
   "metadata": {},
   "outputs": [
    {
     "name": "stderr",
     "output_type": "stream",
     "text": [
      "/Users/evangelurtz/opt/anaconda3/lib/python3.8/site-packages/sklearn/utils/validation.py:70: FutureWarning: Pass classes=[0 1], y=[0 0 1 ... 0 0 0] as keyword args. From version 1.0 (renaming of 0.25) passing these as positional arguments will result in an error\n",
      "  warnings.warn(f\"Pass {args_msg} as keyword args. From version \"\n"
     ]
    }
   ],
   "source": [
    "cw_l = class_weight.compute_class_weight('balanced', np.unique(large_y_train), large_y_train)"
   ]
  },
  {
   "cell_type": "code",
   "execution_count": 615,
   "id": "0c36b562",
   "metadata": {},
   "outputs": [
    {
     "data": {
      "text/plain": [
       "array([0.67390611, 1.93755734])"
      ]
     },
     "execution_count": 615,
     "metadata": {},
     "output_type": "execute_result"
    }
   ],
   "source": [
    "cw_l"
   ]
  },
  {
   "cell_type": "code",
   "execution_count": 664,
   "id": "0f74f722",
   "metadata": {},
   "outputs": [],
   "source": [
    "sw_s = class_weight.compute_sample_weight(class_weight={0: 1.28106861, 2:1.88069212}, y=small_y_train)"
   ]
  },
  {
   "cell_type": "code",
   "execution_count": 665,
   "id": "c3fe084f",
   "metadata": {},
   "outputs": [],
   "source": [
    "sw_l = class_weight.compute_sample_weight(class_weight={0: 1.27390611, 1: 1.93755734}, y=large_y_train)"
   ]
  },
  {
   "cell_type": "code",
   "execution_count": 666,
   "id": "1e8ee984",
   "metadata": {},
   "outputs": [
    {
     "data": {
      "text/plain": [
       "GaussianNB()"
      ]
     },
     "execution_count": 666,
     "metadata": {},
     "output_type": "execute_result"
    }
   ],
   "source": [
    "from sklearn.naive_bayes import GaussianNB\n",
    "s_nb_classifier = GaussianNB()\n",
    "s_nb_classifier.fit(small_X_train, small_y_train, sample_weight=sw_s)"
   ]
  },
  {
   "cell_type": "code",
   "execution_count": 667,
   "id": "05b87e50",
   "metadata": {},
   "outputs": [
    {
     "data": {
      "text/plain": [
       "GaussianNB()"
      ]
     },
     "execution_count": 667,
     "metadata": {},
     "output_type": "execute_result"
    }
   ],
   "source": [
    "l_nb_classifier = GaussianNB()\n",
    "l_nb_classifier.fit(large_X_train, large_y_train, sample_weight=sw_l)"
   ]
  },
  {
   "cell_type": "code",
   "execution_count": 668,
   "id": "6dd104a5",
   "metadata": {},
   "outputs": [],
   "source": [
    "y_pred_small = s_nb_classifier.predict(small_X_test)"
   ]
  },
  {
   "cell_type": "code",
   "execution_count": 669,
   "id": "c1e5056a",
   "metadata": {},
   "outputs": [
    {
     "data": {
      "text/plain": [
       "0.7135773902983225"
      ]
     },
     "execution_count": 669,
     "metadata": {},
     "output_type": "execute_result"
    }
   ],
   "source": [
    "accuracy_score(small_y_test, y_pred_small)"
   ]
  },
  {
   "cell_type": "code",
   "execution_count": 670,
   "id": "8360fe1b",
   "metadata": {},
   "outputs": [],
   "source": [
    "y_pred_large = l_nb_classifier.predict(large_X_test)"
   ]
  },
  {
   "cell_type": "code",
   "execution_count": 671,
   "id": "a38efca3",
   "metadata": {},
   "outputs": [
    {
     "data": {
      "text/plain": [
       "0.7386980864042785"
      ]
     },
     "execution_count": 671,
     "metadata": {},
     "output_type": "execute_result"
    }
   ],
   "source": [
    "accuracy_score(large_y_test, y_pred_large)"
   ]
  },
  {
   "cell_type": "code",
   "execution_count": 625,
   "id": "35d10e0d",
   "metadata": {},
   "outputs": [
    {
     "name": "stdout",
     "output_type": "stream",
     "text": [
      "96272\n",
      "23934\n",
      "24202\n"
     ]
    }
   ],
   "source": [
    "print(len(y_test))\n",
    "print(len(large_y_test))\n",
    "print(len(small_y_test))"
   ]
  },
  {
   "cell_type": "code",
   "execution_count": 626,
   "id": "f0888a36",
   "metadata": {},
   "outputs": [],
   "source": [
    "###############"
   ]
  },
  {
   "cell_type": "code",
   "execution_count": 627,
   "id": "2058c955",
   "metadata": {},
   "outputs": [],
   "source": [
    "y_pred_s = s_nb_classifier.predict(X_test)\n",
    "y_pred_l = l_nb_classifier.predict(X_test)"
   ]
  },
  {
   "cell_type": "code",
   "execution_count": 628,
   "id": "a9dffeea",
   "metadata": {},
   "outputs": [],
   "source": [
    "y_test_binary = []\n",
    "for i in range(len(y_test)):\n",
    "    if y_test[i] == 0:\n",
    "        y_test_binary.append(0)\n",
    "    else:\n",
    "        y_test_binary.append(1)\n",
    "y_test_binary = np.array(y_test_binary)"
   ]
  },
  {
   "cell_type": "code",
   "execution_count": 629,
   "id": "f9c81ed7",
   "metadata": {},
   "outputs": [],
   "source": [
    "y_pred_binary = []\n",
    "count = 0\n",
    "for i in range(len(y_pred_s)):\n",
    "    if y_pred_l[i] == 0 and y_pred_s[i] == 0:\n",
    "        y_pred_binary.append(0)\n",
    "    else:\n",
    "        y_pred_binary.append(1)\n",
    "y_pred_binary = np.array(y_pred_binary)"
   ]
  },
  {
   "cell_type": "code",
   "execution_count": 630,
   "id": "d5f1b5ee",
   "metadata": {},
   "outputs": [
    {
     "name": "stdout",
     "output_type": "stream",
     "text": [
      "62029\n",
      "4412\n"
     ]
    }
   ],
   "source": [
    "count = 0\n",
    "zero_predict_count = 0\n",
    "for i in range(len(y_pred)):\n",
    "    if y_test_binary[i] != y_pred_binary[i]:\n",
    "        count+=1\n",
    "        if y_pred_binary[i] == 0:\n",
    "            zero_predict_count+=1\n",
    "print(count)\n",
    "print(zero_predict_count)"
   ]
  },
  {
   "cell_type": "code",
   "execution_count": 631,
   "id": "ea40a678",
   "metadata": {},
   "outputs": [
    {
     "data": {
      "text/plain": [
       "0.35569012797074956"
      ]
     },
     "execution_count": 631,
     "metadata": {},
     "output_type": "execute_result"
    }
   ],
   "source": [
    "accuracy_score(y_test_binary, y_pred_binary)"
   ]
  },
  {
   "cell_type": "code",
   "execution_count": 325,
   "id": "cd91c5ea",
   "metadata": {},
   "outputs": [
    {
     "name": "stdout",
     "output_type": "stream",
     "text": [
      "35347\n"
     ]
    }
   ],
   "source": [
    "count = 0\n",
    "for i in range(len(y_test)):\n",
    "    if y_test[i] == 0:\n",
    "        count+=1\n",
    "print(count)"
   ]
  },
  {
   "cell_type": "code",
   "execution_count": 326,
   "id": "a059b65a",
   "metadata": {},
   "outputs": [],
   "source": [
    "from sklearn.multiclass import OneVsRestClassifier\n",
    "clf = OneVsRestClassifier(GaussianNB()).fit(X_train, y_train)\n",
    "y_pred = clf.predict(X_test)"
   ]
  },
  {
   "cell_type": "code",
   "execution_count": 327,
   "id": "bdf5b142",
   "metadata": {},
   "outputs": [
    {
     "data": {
      "text/plain": [
       "0.734169852085757"
      ]
     },
     "execution_count": 327,
     "metadata": {},
     "output_type": "execute_result"
    }
   ],
   "source": [
    "accuracy_score(y_test, y_pred)"
   ]
  },
  {
   "cell_type": "markdown",
   "id": "62dce9f6",
   "metadata": {},
   "source": [
    "### Dual Decision Tree"
   ]
  },
  {
   "cell_type": "code",
   "execution_count": 105,
   "id": "63dcb766",
   "metadata": {},
   "outputs": [
    {
     "data": {
      "text/plain": [
       "DecisionTreeClassifier(criterion='entropy', random_state=42)"
      ]
     },
     "execution_count": 105,
     "metadata": {},
     "output_type": "execute_result"
    }
   ],
   "source": [
    "from sklearn.tree import DecisionTreeClassifier\n",
    "s_dt_classifier = DecisionTreeClassifier(criterion = 'entropy', random_state = 42)\n",
    "s_dt_classifier.fit(small_X_train, small_y_train)"
   ]
  },
  {
   "cell_type": "code",
   "execution_count": 106,
   "id": "1a0c1a09",
   "metadata": {},
   "outputs": [
    {
     "data": {
      "text/plain": [
       "DecisionTreeClassifier(criterion='entropy', random_state=42)"
      ]
     },
     "execution_count": 106,
     "metadata": {},
     "output_type": "execute_result"
    }
   ],
   "source": [
    "l_dt_classifier = DecisionTreeClassifier(criterion = 'entropy', random_state = 42)\n",
    "l_dt_classifier.fit(large_X_train, large_y_train)"
   ]
  },
  {
   "cell_type": "code",
   "execution_count": 107,
   "id": "4287db21",
   "metadata": {},
   "outputs": [],
   "source": [
    "y_pred = s_dt_classifier.predict(small_X_test)"
   ]
  },
  {
   "cell_type": "code",
   "execution_count": 108,
   "id": "59599a10",
   "metadata": {},
   "outputs": [
    {
     "data": {
      "text/plain": [
       "0.7566253574833175"
      ]
     },
     "execution_count": 108,
     "metadata": {},
     "output_type": "execute_result"
    }
   ],
   "source": [
    "accuracy_score(small_y_test, y_pred)"
   ]
  },
  {
   "cell_type": "code",
   "execution_count": 109,
   "id": "0be0c6bc",
   "metadata": {},
   "outputs": [],
   "source": [
    "y_pred = l_dt_classifier.predict(large_X_test)"
   ]
  },
  {
   "cell_type": "code",
   "execution_count": 110,
   "id": "6626dcec",
   "metadata": {},
   "outputs": [
    {
     "data": {
      "text/plain": [
       "0.761129233426077"
      ]
     },
     "execution_count": 110,
     "metadata": {},
     "output_type": "execute_result"
    }
   ],
   "source": [
    "accuracy_score(large_y_test, y_pred)"
   ]
  },
  {
   "cell_type": "markdown",
   "id": "1c9059df",
   "metadata": {},
   "source": [
    "### Dual Random Forest"
   ]
  },
  {
   "cell_type": "code",
   "execution_count": 111,
   "id": "192bf79a",
   "metadata": {},
   "outputs": [
    {
     "data": {
      "text/plain": [
       "RandomForestClassifier(criterion='entropy', random_state=42)"
      ]
     },
     "execution_count": 111,
     "metadata": {},
     "output_type": "execute_result"
    }
   ],
   "source": [
    "from sklearn.ensemble import RandomForestClassifier\n",
    "s_rf_classifier = RandomForestClassifier(n_estimators = 100, criterion = 'entropy', random_state = 42)\n",
    "s_rf_classifier.fit(small_X_train, small_y_train)"
   ]
  },
  {
   "cell_type": "code",
   "execution_count": 112,
   "id": "cc41e3f6",
   "metadata": {},
   "outputs": [
    {
     "data": {
      "text/plain": [
       "RandomForestClassifier(criterion='entropy', random_state=42)"
      ]
     },
     "execution_count": 112,
     "metadata": {},
     "output_type": "execute_result"
    }
   ],
   "source": [
    "l_rf_classifier = RandomForestClassifier(n_estimators = 100, criterion = 'entropy', random_state = 42)\n",
    "l_rf_classifier.fit(large_X_train, large_y_train)"
   ]
  },
  {
   "cell_type": "code",
   "execution_count": 113,
   "id": "6eade794",
   "metadata": {},
   "outputs": [],
   "source": [
    "y_pred = s_rf_classifier.predict(small_X_test)"
   ]
  },
  {
   "cell_type": "code",
   "execution_count": 114,
   "id": "48e2f169",
   "metadata": {},
   "outputs": [
    {
     "data": {
      "text/plain": [
       "0.8349142040038131"
      ]
     },
     "execution_count": 114,
     "metadata": {},
     "output_type": "execute_result"
    }
   ],
   "source": [
    "accuracy_score(small_y_test, y_pred)"
   ]
  },
  {
   "cell_type": "code",
   "execution_count": 115,
   "id": "00c5b647",
   "metadata": {},
   "outputs": [],
   "source": [
    "y_pred = l_rf_classifier.predict(large_X_test)"
   ]
  },
  {
   "cell_type": "code",
   "execution_count": 116,
   "id": "bbae2a2a",
   "metadata": {},
   "outputs": [
    {
     "data": {
      "text/plain": [
       "0.8423678403530653"
      ]
     },
     "execution_count": 116,
     "metadata": {},
     "output_type": "execute_result"
    }
   ],
   "source": [
    "accuracy_score(large_y_test, y_pred)"
   ]
  },
  {
   "cell_type": "code",
   "execution_count": null,
   "id": "0216b4ab",
   "metadata": {},
   "outputs": [],
   "source": []
  }
 ],
 "metadata": {
  "kernelspec": {
   "display_name": "Python 3 (ipykernel)",
   "language": "python",
   "name": "python3"
  },
  "language_info": {
   "codemirror_mode": {
    "name": "ipython",
    "version": 3
   },
   "file_extension": ".py",
   "mimetype": "text/x-python",
   "name": "python",
   "nbconvert_exporter": "python",
   "pygments_lexer": "ipython3",
   "version": "3.8.12"
  }
 },
 "nbformat": 4,
 "nbformat_minor": 5
}
