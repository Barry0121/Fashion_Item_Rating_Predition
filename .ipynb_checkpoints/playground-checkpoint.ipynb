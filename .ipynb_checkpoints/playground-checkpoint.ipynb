{
 "cells": [
  {
   "cell_type": "markdown",
   "metadata": {},
   "source": [
    "### Dataset: Clothing Fit Dataset"
   ]
  },
  {
   "cell_type": "code",
   "execution_count": 1,
   "metadata": {},
   "outputs": [],
   "source": [
    "import pandas as pd"
   ]
  },
  {
   "cell_type": "code",
   "execution_count": 2,
   "metadata": {},
   "outputs": [],
   "source": [
    "# modecloth = pd.read_json('data/modcloth_final_data.json',lines=True)\n",
    "renttherunway = pd.read_json('data/renttherunway_final_data.json',lines=True)"
   ]
  },
  {
   "cell_type": "code",
   "execution_count": 3,
   "metadata": {},
   "outputs": [
    {
     "data": {
      "text/plain": [
       "(192544, 15)"
      ]
     },
     "execution_count": 3,
     "metadata": {},
     "output_type": "execute_result"
    }
   ],
   "source": [
    "# modecloth.shape, \n",
    "renttherunway.shape"
   ]
  },
  {
   "cell_type": "code",
   "execution_count": 4,
   "metadata": {},
   "outputs": [],
   "source": [
    "# modecloth.columns"
   ]
  },
  {
   "cell_type": "code",
   "execution_count": 5,
   "metadata": {},
   "outputs": [
    {
     "data": {
      "text/plain": [
       "Index(['fit', 'user_id', 'bust size', 'item_id', 'weight', 'rating',\n",
       "       'rented for', 'review_text', 'body type', 'review_summary', 'category',\n",
       "       'height', 'size', 'age', 'review_date'],\n",
       "      dtype='object')"
      ]
     },
     "execution_count": 5,
     "metadata": {},
     "output_type": "execute_result"
    }
   ],
   "source": [
    "renttherunway.columns"
   ]
  },
  {
   "cell_type": "code",
   "execution_count": 6,
   "metadata": {},
   "outputs": [
    {
     "data": {
      "text/html": [
       "<div>\n",
       "<style scoped>\n",
       "    .dataframe tbody tr th:only-of-type {\n",
       "        vertical-align: middle;\n",
       "    }\n",
       "\n",
       "    .dataframe tbody tr th {\n",
       "        vertical-align: top;\n",
       "    }\n",
       "\n",
       "    .dataframe thead th {\n",
       "        text-align: right;\n",
       "    }\n",
       "</style>\n",
       "<table border=\"1\" class=\"dataframe\">\n",
       "  <thead>\n",
       "    <tr style=\"text-align: right;\">\n",
       "      <th></th>\n",
       "      <th>fit</th>\n",
       "      <th>user_id</th>\n",
       "      <th>bust size</th>\n",
       "      <th>item_id</th>\n",
       "      <th>weight</th>\n",
       "      <th>rating</th>\n",
       "      <th>rented for</th>\n",
       "      <th>review_text</th>\n",
       "      <th>body type</th>\n",
       "      <th>review_summary</th>\n",
       "      <th>category</th>\n",
       "      <th>height</th>\n",
       "      <th>size</th>\n",
       "      <th>age</th>\n",
       "      <th>review_date</th>\n",
       "    </tr>\n",
       "  </thead>\n",
       "  <tbody>\n",
       "    <tr>\n",
       "      <th>0</th>\n",
       "      <td>fit</td>\n",
       "      <td>420272</td>\n",
       "      <td>34d</td>\n",
       "      <td>2260466</td>\n",
       "      <td>137lbs</td>\n",
       "      <td>10.0</td>\n",
       "      <td>vacation</td>\n",
       "      <td>An adorable romper! Belt and zipper were a lit...</td>\n",
       "      <td>hourglass</td>\n",
       "      <td>So many compliments!</td>\n",
       "      <td>romper</td>\n",
       "      <td>5' 8\"</td>\n",
       "      <td>14</td>\n",
       "      <td>28.0</td>\n",
       "      <td>April 20, 2016</td>\n",
       "    </tr>\n",
       "    <tr>\n",
       "      <th>1</th>\n",
       "      <td>fit</td>\n",
       "      <td>273551</td>\n",
       "      <td>34b</td>\n",
       "      <td>153475</td>\n",
       "      <td>132lbs</td>\n",
       "      <td>10.0</td>\n",
       "      <td>other</td>\n",
       "      <td>I rented this dress for a photo shoot. The the...</td>\n",
       "      <td>straight &amp; narrow</td>\n",
       "      <td>I felt so glamourous!!!</td>\n",
       "      <td>gown</td>\n",
       "      <td>5' 6\"</td>\n",
       "      <td>12</td>\n",
       "      <td>36.0</td>\n",
       "      <td>June 18, 2013</td>\n",
       "    </tr>\n",
       "    <tr>\n",
       "      <th>2</th>\n",
       "      <td>fit</td>\n",
       "      <td>360448</td>\n",
       "      <td>NaN</td>\n",
       "      <td>1063761</td>\n",
       "      <td>NaN</td>\n",
       "      <td>10.0</td>\n",
       "      <td>party</td>\n",
       "      <td>This hugged in all the right places! It was a ...</td>\n",
       "      <td>NaN</td>\n",
       "      <td>It was a great time to celebrate the (almost) ...</td>\n",
       "      <td>sheath</td>\n",
       "      <td>5' 4\"</td>\n",
       "      <td>4</td>\n",
       "      <td>116.0</td>\n",
       "      <td>December 14, 2015</td>\n",
       "    </tr>\n",
       "    <tr>\n",
       "      <th>3</th>\n",
       "      <td>fit</td>\n",
       "      <td>909926</td>\n",
       "      <td>34c</td>\n",
       "      <td>126335</td>\n",
       "      <td>135lbs</td>\n",
       "      <td>8.0</td>\n",
       "      <td>formal affair</td>\n",
       "      <td>I rented this for my company's black tie award...</td>\n",
       "      <td>pear</td>\n",
       "      <td>Dress arrived on time and in perfect condition.</td>\n",
       "      <td>dress</td>\n",
       "      <td>5' 5\"</td>\n",
       "      <td>8</td>\n",
       "      <td>34.0</td>\n",
       "      <td>February 12, 2014</td>\n",
       "    </tr>\n",
       "    <tr>\n",
       "      <th>4</th>\n",
       "      <td>fit</td>\n",
       "      <td>151944</td>\n",
       "      <td>34b</td>\n",
       "      <td>616682</td>\n",
       "      <td>145lbs</td>\n",
       "      <td>10.0</td>\n",
       "      <td>wedding</td>\n",
       "      <td>I have always been petite in my upper body and...</td>\n",
       "      <td>athletic</td>\n",
       "      <td>Was in love with this dress !!!</td>\n",
       "      <td>gown</td>\n",
       "      <td>5' 9\"</td>\n",
       "      <td>12</td>\n",
       "      <td>27.0</td>\n",
       "      <td>September 26, 2016</td>\n",
       "    </tr>\n",
       "  </tbody>\n",
       "</table>\n",
       "</div>"
      ],
      "text/plain": [
       "   fit  user_id bust size  item_id  weight  rating     rented for  \\\n",
       "0  fit   420272       34d  2260466  137lbs    10.0       vacation   \n",
       "1  fit   273551       34b   153475  132lbs    10.0          other   \n",
       "2  fit   360448       NaN  1063761     NaN    10.0          party   \n",
       "3  fit   909926       34c   126335  135lbs     8.0  formal affair   \n",
       "4  fit   151944       34b   616682  145lbs    10.0        wedding   \n",
       "\n",
       "                                         review_text          body type  \\\n",
       "0  An adorable romper! Belt and zipper were a lit...          hourglass   \n",
       "1  I rented this dress for a photo shoot. The the...  straight & narrow   \n",
       "2  This hugged in all the right places! It was a ...                NaN   \n",
       "3  I rented this for my company's black tie award...               pear   \n",
       "4  I have always been petite in my upper body and...           athletic   \n",
       "\n",
       "                                      review_summary category height  size  \\\n",
       "0                               So many compliments!   romper  5' 8\"    14   \n",
       "1                            I felt so glamourous!!!     gown  5' 6\"    12   \n",
       "2  It was a great time to celebrate the (almost) ...   sheath  5' 4\"     4   \n",
       "3   Dress arrived on time and in perfect condition.     dress  5' 5\"     8   \n",
       "4                    Was in love with this dress !!!     gown  5' 9\"    12   \n",
       "\n",
       "     age         review_date  \n",
       "0   28.0      April 20, 2016  \n",
       "1   36.0       June 18, 2013  \n",
       "2  116.0   December 14, 2015  \n",
       "3   34.0   February 12, 2014  \n",
       "4   27.0  September 26, 2016  "
      ]
     },
     "execution_count": 6,
     "metadata": {},
     "output_type": "execute_result"
    }
   ],
   "source": [
    "renttherunway.head()"
   ]
  },
  {
   "cell_type": "markdown",
   "metadata": {},
   "source": [
    "### EDA"
   ]
  },
  {
   "cell_type": "code",
   "execution_count": 7,
   "metadata": {},
   "outputs": [
    {
     "data": {
      "text/plain": [
       "fit                   0\n",
       "user_id               0\n",
       "bust size         18411\n",
       "item_id               0\n",
       "weight            29982\n",
       "rating               82\n",
       "rented for           10\n",
       "review_text           0\n",
       "body type         14637\n",
       "review_summary        0\n",
       "category              0\n",
       "height              677\n",
       "size                  0\n",
       "age                 960\n",
       "review_date           0\n",
       "dtype: int64"
      ]
     },
     "execution_count": 7,
     "metadata": {},
     "output_type": "execute_result"
    }
   ],
   "source": [
    "renttherunway.isna().sum()"
   ]
  },
  {
   "cell_type": "code",
   "execution_count": 8,
   "metadata": {},
   "outputs": [],
   "source": [
    "from matplotlib import pyplot as plt \n",
    "import random"
   ]
  },
  {
   "cell_type": "code",
   "execution_count": 9,
   "metadata": {},
   "outputs": [
    {
     "name": "stdout",
     "output_type": "stream",
     "text": [
      "106\n"
     ]
    },
    {
     "data": {
      "image/png": "[encoded data removed]",
      "text/plain": [
       "<Figure size 720x648 with 1 Axes>"
      ]
     },
     "metadata": {
      "needs_background": "light"
     },
     "output_type": "display_data"
    }
   ],
   "source": [
    "# distribution of bust_size\n",
    "bust_size = renttherunway['bust size'].value_counts(normalize=False).sort_values(ascending=True)\n",
    "plt.figure(figsize=(10, 9))\n",
    "plt.barh(bust_size.index[:50], bust_size[:50], align='edge', height=0.8)\n",
    "print(len(bust_size))"
   ]
  },
  {
   "cell_type": "markdown",
   "metadata": {},
   "source": [
    "- There are a total of 106 sizes, the exact meaning of these sizes are not clear \n",
    "- We can onehot-enocode the categories"
   ]
  },
  {
   "cell_type": "code",
   "execution_count": 10,
   "metadata": {},
   "outputs": [
    {
     "data": {
      "text/plain": [
       "15.571505733754362"
      ]
     },
     "execution_count": 10,
     "metadata": {},
     "output_type": "execute_result"
    }
   ],
   "source": [
    "(29982 / len(renttherunway['weight']))*100"
   ]
  },
  {
   "cell_type": "code",
   "execution_count": 11,
   "metadata": {},
   "outputs": [],
   "source": [
    "# distribution of weight \n",
    "if renttherunway['weight'].dtype==object: \n",
    "    renttherunway['weight'] = renttherunway.weight.str.strip('lbs').astype(float)\n",
    "renttherunway['weight'] = renttherunway['weight'].fillna(random.choice(renttherunway['weight'][renttherunway['weight'].notna()]))"
   ]
  },
  {
   "cell_type": "code",
   "execution_count": 12,
   "metadata": {},
   "outputs": [
    {
     "data": {
      "text/plain": [
       "(array([7.00000e+00, 7.21000e+02, 4.09840e+04, 1.10457e+05, 3.01010e+04,\n",
       "        7.16400e+03, 2.15800e+03, 6.09000e+02, 2.87000e+02, 5.60000e+01]),\n",
       " array([ 50.,  75., 100., 125., 150., 175., 200., 225., 250., 275., 300.]),\n",
       " <BarContainer object of 10 artists>)"
      ]
     },
     "execution_count": 12,
     "metadata": {},
     "output_type": "execute_result"
    },
    {
     "data": {
      "image/png": "[encoded data removed]",
      "text/plain": [
       "<Figure size 432x288 with 1 Axes>"
      ]
     },
     "metadata": {
      "needs_background": "light"
     },
     "output_type": "display_data"
    }
   ],
   "source": [
    "plt.hist(renttherunway['weight'])"
   ]
  },
  {
   "cell_type": "markdown",
   "metadata": {},
   "source": [
    "- originally, there are 29982 missing values in the weight column, roughly around 15% of the total number of instances available \n",
    "- imputed the missing data in weight by random samples according to available data's distribution "
   ]
  },
  {
   "cell_type": "code",
   "execution_count": 13,
   "metadata": {},
   "outputs": [
    {
     "data": {
      "text/plain": [
       "wedding            57784\n",
       "formal affair      40408\n",
       "party              35626\n",
       "everyday           16822\n",
       "other              15388\n",
       "work               15042\n",
       "date                7388\n",
       "vacation            4075\n",
       "NaN                   10\n",
       "party: cocktail        1\n",
       "Name: rented for, dtype: int64"
      ]
     },
     "execution_count": 13,
     "metadata": {},
     "output_type": "execute_result"
    }
   ],
   "source": [
    "renttherunway['rented for'].value_counts(dropna=False)"
   ]
  },
  {
   "cell_type": "code",
   "execution_count": 14,
   "metadata": {},
   "outputs": [],
   "source": [
    "renttherunway['rented for'].fillna('Other', inplace=True)"
   ]
  },
  {
   "cell_type": "markdown",
   "metadata": {},
   "source": [
    "- filled the NaN value in `rented for` column with 'Other'"
   ]
  },
  {
   "cell_type": "code",
   "execution_count": 15,
   "metadata": {},
   "outputs": [
    {
     "data": {
      "text/plain": [
       "hourglass            55349\n",
       "athletic             43667\n",
       "pear                 22135\n",
       "petite               22131\n",
       "full bust            15006\n",
       "straight & narrow    14742\n",
       "NaN                  14637\n",
       "apple                 4877\n",
       "Name: body type, dtype: int64"
      ]
     },
     "execution_count": 15,
     "metadata": {},
     "output_type": "execute_result"
    }
   ],
   "source": [
    "renttherunway['body type'].value_counts(dropna=False)"
   ]
  },
  {
   "cell_type": "code",
   "execution_count": 16,
   "metadata": {},
   "outputs": [],
   "source": [
    "renttherunway['body type'].fillna('Not Provided', inplace=True)"
   ]
  },
  {
   "cell_type": "markdown",
   "metadata": {},
   "source": [
    "- Impute the missing body type with 'Not Provide' "
   ]
  },
  {
   "cell_type": "code",
   "execution_count": 17,
   "metadata": {},
   "outputs": [
    {
     "data": {
      "text/plain": [
       "dress         92884\n",
       "gown          44381\n",
       "sheath        19316\n",
       "shift          5365\n",
       "jumpsuit       5184\n",
       "              ...  \n",
       "caftan            4\n",
       "overcoat          2\n",
       "sweatpants        2\n",
       "crewneck          1\n",
       "buttondown        1\n",
       "Name: category, Length: 68, dtype: int64"
      ]
     },
     "execution_count": 17,
     "metadata": {},
     "output_type": "execute_result"
    }
   ],
   "source": [
    "renttherunway['category'].value_counts()"
   ]
  },
  {
   "cell_type": "code",
   "execution_count": 18,
   "metadata": {},
   "outputs": [],
   "source": [
    "def translate_height(height): \n",
    "    if type(height)==float:\n",
    "        return height\n",
    "    ft = height.split('\\'')[0]\n",
    "    inch = height.split('\\'')[1].strip('\\\"')\n",
    "    return int(ft)*12 + int(inch)"
   ]
  },
  {
   "cell_type": "code",
   "execution_count": 19,
   "metadata": {},
   "outputs": [
    {
     "data": {
      "text/plain": [
       "5' 4\"     28012\n",
       "5' 6\"     25680\n",
       "5' 5\"     24318\n",
       "5' 7\"     24020\n",
       "5' 3\"     20736\n",
       "5' 2\"     16762\n",
       "5' 8\"     16369\n",
       "5' 9\"     11371\n",
       "5' 1\"      7145\n",
       "5' 10\"     7041\n",
       "5' 0\"      4015\n",
       "5' 11\"     3114\n",
       "6' 0\"      1406\n",
       "4' 11\"     1014\n",
       "6' 1\"       364\n",
       "4' 10\"      212\n",
       "6' 2\"       124\n",
       "4' 9\"        60\n",
       "6' 3\"        31\n",
       "4' 6\"        20\n",
       "6' 4\"        18\n",
       "4' 8\"        17\n",
       "4' 7\"        16\n",
       "6' 6\"         2\n",
       "Name: height, dtype: int64"
      ]
     },
     "execution_count": 19,
     "metadata": {},
     "output_type": "execute_result"
    }
   ],
   "source": [
    "renttherunway['height'].value_counts()"
   ]
  },
  {
   "cell_type": "code",
   "execution_count": 20,
   "metadata": {},
   "outputs": [
    {
     "data": {
      "text/plain": [
       "(array([5.3000e+01, 2.7200e+02, 1.2174e+04, 3.7498e+04, 5.2330e+04,\n",
       "        6.6069e+04, 1.8412e+04, 4.8840e+03, 1.5500e+02, 2.0000e+01]),\n",
       " array([54. , 56.4, 58.8, 61.2, 63.6, 66. , 68.4, 70.8, 73.2, 75.6, 78. ]),\n",
       " <BarContainer object of 10 artists>)"
      ]
     },
     "execution_count": 20,
     "metadata": {},
     "output_type": "execute_result"
    },
    {
     "data": {
      "image/png": "[encoded data removed]",
      "text/plain": [
       "<Figure size 432x288 with 1 Axes>"
      ]
     },
     "metadata": {
      "needs_background": "light"
     },
     "output_type": "display_data"
    }
   ],
   "source": [
    "plt.hist(renttherunway['height'].apply(translate_height))"
   ]
  },
  {
   "cell_type": "code",
   "execution_count": 21,
   "metadata": {},
   "outputs": [],
   "source": [
    "renttherunway['height']=renttherunway['height'].apply(translate_height)"
   ]
  },
  {
   "cell_type": "code",
   "execution_count": 22,
   "metadata": {},
   "outputs": [
    {
     "data": {
      "text/plain": [
       "<BarContainer object of 3 artists>"
      ]
     },
     "execution_count": 22,
     "metadata": {},
     "output_type": "execute_result"
    },
    {
     "data": {
      "image/png": "[encoded data removed]",
      "text/plain": [
       "<Figure size 432x288 with 1 Axes>"
      ]
     },
     "metadata": {
      "needs_background": "light"
     },
     "output_type": "display_data"
    }
   ],
   "source": [
    "# check the fit distribution\n",
    "fit = renttherunway.fit.value_counts(normalize=True)\n",
    "plt.bar(fit.index, fit)"
   ]
  },
  {
   "cell_type": "markdown",
   "metadata": {},
   "source": [
    "- since over 70% of the instances we get are `fit`, and with only 15% are of the other 2 categories; we should train our model with weights accordingly"
   ]
  },
  {
   "cell_type": "code",
   "execution_count": 23,
   "metadata": {},
   "outputs": [
    {
     "data": {
      "text/plain": [
       "(array([6.40000e+01, 8.04700e+03, 1.23413e+05, 4.43310e+04, 1.35290e+04,\n",
       "        2.05200e+03, 5.50000e+01, 2.30000e+01, 5.00000e+00, 6.50000e+01]),\n",
       " array([  0. ,  11.7,  23.4,  35.1,  46.8,  58.5,  70.2,  81.9,  93.6,\n",
       "        105.3, 117. ]),\n",
       " <BarContainer object of 10 artists>)"
      ]
     },
     "execution_count": 23,
     "metadata": {},
     "output_type": "execute_result"
    },
    {
     "data": {
      "image/png": "[encoded data removed]",
      "text/plain": [
       "<Figure size 432x288 with 1 Axes>"
      ]
     },
     "metadata": {
      "needs_background": "light"
     },
     "output_type": "display_data"
    }
   ],
   "source": [
    "plt.hist(renttherunway['age'])"
   ]
  },
  {
   "cell_type": "markdown",
   "metadata": {},
   "source": [
    "- most people are 30 years old\n",
    "- reviewers' age range from 15~ to 70~"
   ]
  },
  {
   "cell_type": "code",
   "execution_count": 24,
   "metadata": {},
   "outputs": [],
   "source": [
    "def translate_date(date: str): \n",
    "    return pd.to_datetime(date).date()"
   ]
  },
  {
   "cell_type": "code",
   "execution_count": 25,
   "metadata": {},
   "outputs": [
    {
     "data": {
      "text/plain": [
       "(array([1.5000e+01, 6.1800e+02, 2.9200e+03, 5.6660e+03, 1.5632e+04,\n",
       "        2.0292e+04, 2.2475e+04, 3.4100e+04, 3.7256e+04, 5.3570e+04]),\n",
       " array([14916. , 15178.3, 15440.6, 15702.9, 15965.2, 16227.5, 16489.8,\n",
       "        16752.1, 17014.4, 17276.7, 17539. ]),\n",
       " <BarContainer object of 10 artists>)"
      ]
     },
     "execution_count": 25,
     "metadata": {},
     "output_type": "execute_result"
    },
    {
     "data": {
      "image/png": "[encoded data removed]",
      "text/plain": [
       "<Figure size 432x288 with 1 Axes>"
      ]
     },
     "metadata": {
      "needs_background": "light"
     },
     "output_type": "display_data"
    }
   ],
   "source": [
    "plt.hist(renttherunway['review_date'].apply(translate_date))"
   ]
  },
  {
   "cell_type": "code",
   "execution_count": 26,
   "metadata": {},
   "outputs": [],
   "source": [
    "renttherunway['review_date']=renttherunway['review_date'].apply(translate_date)"
   ]
  },
  {
   "cell_type": "markdown",
   "metadata": {},
   "source": [
    "- more recent instances than older ones "
   ]
  },
  {
   "cell_type": "code",
   "execution_count": 27,
   "metadata": {},
   "outputs": [
    {
     "data": {
      "text/plain": [
       "(array([1.55636e+05, 3.67390e+04, 9.90000e+01, 3.70000e+01, 1.50000e+01,\n",
       "        9.00000e+00, 4.00000e+00, 3.00000e+00, 0.00000e+00, 2.00000e+00]),\n",
       " array([  0.,  63., 126., 189., 252., 315., 378., 441., 504., 567., 630.]),\n",
       " <BarContainer object of 10 artists>)"
      ]
     },
     "execution_count": 27,
     "metadata": {},
     "output_type": "execute_result"
    },
    {
     "data": {
      "image/png": "[encoded data removed]",
      "text/plain": [
       "<Figure size 432x288 with 1 Axes>"
      ]
     },
     "metadata": {
      "needs_background": "light"
     },
     "output_type": "display_data"
    }
   ],
   "source": [
    "plt.hist(renttherunway['review_summary'].str.len())"
   ]
  },
  {
   "cell_type": "code",
   "execution_count": 28,
   "metadata": {},
   "outputs": [
    {
     "data": {
      "text/plain": [
       "(array([7.6994e+04, 7.1035e+04, 2.9880e+04, 9.4740e+03, 3.1310e+03,\n",
       "        1.1660e+03, 4.8700e+02, 2.0900e+02, 1.1000e+02, 5.8000e+01]),\n",
       " array([   0. ,  209.8,  419.6,  629.4,  839.2, 1049. , 1258.8, 1468.6,\n",
       "        1678.4, 1888.2, 2098. ]),\n",
       " <BarContainer object of 10 artists>)"
      ]
     },
     "execution_count": 28,
     "metadata": {},
     "output_type": "execute_result"
    },
    {
     "data": {
      "image/png": "[encoded data removed]",
      "text/plain": [
       "<Figure size 432x288 with 1 Axes>"
      ]
     },
     "metadata": {
      "needs_background": "light"
     },
     "output_type": "display_data"
    }
   ],
   "source": [
    "plt.hist(renttherunway['review_text'].str.len())"
   ]
  },
  {
   "cell_type": "code",
   "execution_count": 29,
   "metadata": {},
   "outputs": [
    {
     "data": {
      "text/html": [
       "<div>\n",
       "<style scoped>\n",
       "    .dataframe tbody tr th:only-of-type {\n",
       "        vertical-align: middle;\n",
       "    }\n",
       "\n",
       "    .dataframe tbody tr th {\n",
       "        vertical-align: top;\n",
       "    }\n",
       "\n",
       "    .dataframe thead th {\n",
       "        text-align: right;\n",
       "    }\n",
       "</style>\n",
       "<table border=\"1\" class=\"dataframe\">\n",
       "  <thead>\n",
       "    <tr style=\"text-align: right;\">\n",
       "      <th></th>\n",
       "      <th>user_id</th>\n",
       "      <th>bust size</th>\n",
       "      <th>item_id</th>\n",
       "      <th>weight</th>\n",
       "      <th>rating</th>\n",
       "      <th>rented for</th>\n",
       "      <th>review_text</th>\n",
       "      <th>body type</th>\n",
       "      <th>review_summary</th>\n",
       "      <th>category</th>\n",
       "      <th>height</th>\n",
       "      <th>size</th>\n",
       "      <th>age</th>\n",
       "      <th>review_date</th>\n",
       "    </tr>\n",
       "  </thead>\n",
       "  <tbody>\n",
       "    <tr>\n",
       "      <th>0</th>\n",
       "      <td>420272</td>\n",
       "      <td>34d</td>\n",
       "      <td>2260466</td>\n",
       "      <td>137.0</td>\n",
       "      <td>10.0</td>\n",
       "      <td>vacation</td>\n",
       "      <td>An adorable romper! Belt and zipper were a lit...</td>\n",
       "      <td>hourglass</td>\n",
       "      <td>So many compliments!</td>\n",
       "      <td>romper</td>\n",
       "      <td>68.0</td>\n",
       "      <td>14</td>\n",
       "      <td>28.0</td>\n",
       "      <td>2016-04-20</td>\n",
       "    </tr>\n",
       "    <tr>\n",
       "      <th>1</th>\n",
       "      <td>273551</td>\n",
       "      <td>34b</td>\n",
       "      <td>153475</td>\n",
       "      <td>132.0</td>\n",
       "      <td>10.0</td>\n",
       "      <td>other</td>\n",
       "      <td>I rented this dress for a photo shoot. The the...</td>\n",
       "      <td>straight &amp; narrow</td>\n",
       "      <td>I felt so glamourous!!!</td>\n",
       "      <td>gown</td>\n",
       "      <td>66.0</td>\n",
       "      <td>12</td>\n",
       "      <td>36.0</td>\n",
       "      <td>2013-06-18</td>\n",
       "    </tr>\n",
       "    <tr>\n",
       "      <th>2</th>\n",
       "      <td>360448</td>\n",
       "      <td>NaN</td>\n",
       "      <td>1063761</td>\n",
       "      <td>125.0</td>\n",
       "      <td>10.0</td>\n",
       "      <td>party</td>\n",
       "      <td>This hugged in all the right places! It was a ...</td>\n",
       "      <td>Not Provided</td>\n",
       "      <td>It was a great time to celebrate the (almost) ...</td>\n",
       "      <td>sheath</td>\n",
       "      <td>64.0</td>\n",
       "      <td>4</td>\n",
       "      <td>116.0</td>\n",
       "      <td>2015-12-14</td>\n",
       "    </tr>\n",
       "    <tr>\n",
       "      <th>3</th>\n",
       "      <td>909926</td>\n",
       "      <td>34c</td>\n",
       "      <td>126335</td>\n",
       "      <td>135.0</td>\n",
       "      <td>8.0</td>\n",
       "      <td>formal affair</td>\n",
       "      <td>I rented this for my company's black tie award...</td>\n",
       "      <td>pear</td>\n",
       "      <td>Dress arrived on time and in perfect condition.</td>\n",
       "      <td>dress</td>\n",
       "      <td>65.0</td>\n",
       "      <td>8</td>\n",
       "      <td>34.0</td>\n",
       "      <td>2014-02-12</td>\n",
       "    </tr>\n",
       "    <tr>\n",
       "      <th>4</th>\n",
       "      <td>151944</td>\n",
       "      <td>34b</td>\n",
       "      <td>616682</td>\n",
       "      <td>145.0</td>\n",
       "      <td>10.0</td>\n",
       "      <td>wedding</td>\n",
       "      <td>I have always been petite in my upper body and...</td>\n",
       "      <td>athletic</td>\n",
       "      <td>Was in love with this dress !!!</td>\n",
       "      <td>gown</td>\n",
       "      <td>69.0</td>\n",
       "      <td>12</td>\n",
       "      <td>27.0</td>\n",
       "      <td>2016-09-26</td>\n",
       "    </tr>\n",
       "  </tbody>\n",
       "</table>\n",
       "</div>"
      ],
      "text/plain": [
       "   user_id bust size  item_id  weight  rating     rented for  \\\n",
       "0   420272       34d  2260466   137.0    10.0       vacation   \n",
       "1   273551       34b   153475   132.0    10.0          other   \n",
       "2   360448       NaN  1063761   125.0    10.0          party   \n",
       "3   909926       34c   126335   135.0     8.0  formal affair   \n",
       "4   151944       34b   616682   145.0    10.0        wedding   \n",
       "\n",
       "                                         review_text          body type  \\\n",
       "0  An adorable romper! Belt and zipper were a lit...          hourglass   \n",
       "1  I rented this dress for a photo shoot. The the...  straight & narrow   \n",
       "2  This hugged in all the right places! It was a ...       Not Provided   \n",
       "3  I rented this for my company's black tie award...               pear   \n",
       "4  I have always been petite in my upper body and...           athletic   \n",
       "\n",
       "                                      review_summary category  height  size  \\\n",
       "0                               So many compliments!   romper    68.0    14   \n",
       "1                            I felt so glamourous!!!     gown    66.0    12   \n",
       "2  It was a great time to celebrate the (almost) ...   sheath    64.0     4   \n",
       "3   Dress arrived on time and in perfect condition.     dress    65.0     8   \n",
       "4                    Was in love with this dress !!!     gown    69.0    12   \n",
       "\n",
       "     age review_date  \n",
       "0   28.0  2016-04-20  \n",
       "1   36.0  2013-06-18  \n",
       "2  116.0  2015-12-14  \n",
       "3   34.0  2014-02-12  \n",
       "4   27.0  2016-09-26  "
      ]
     },
     "execution_count": 29,
     "metadata": {},
     "output_type": "execute_result"
    }
   ],
   "source": [
    "#TODO: create some correlation plots \n",
    "#TODO: finish the first 2 portions of the report \n",
    "features = renttherunway.drop(columns='fit')\n",
    "features.head()"
   ]
  },
  {
   "cell_type": "code",
   "execution_count": 30,
   "metadata": {},
   "outputs": [
    {
     "data": {
      "text/plain": [
       "user_id               0\n",
       "bust size         18411\n",
       "item_id               0\n",
       "weight                0\n",
       "rating               82\n",
       "rented for            0\n",
       "review_text           0\n",
       "body type             0\n",
       "review_summary        0\n",
       "category              0\n",
       "height              677\n",
       "size                  0\n",
       "age                 960\n",
       "review_date           0\n",
       "dtype: int64"
      ]
     },
     "execution_count": 30,
     "metadata": {},
     "output_type": "execute_result"
    }
   ],
   "source": [
    "#TODO: report on interesting findings  \n",
    "features.isna().sum()"
   ]
  },
  {
   "cell_type": "markdown",
   "metadata": {},
   "source": [
    "1. There are missing values in \n",
    "- bust size (18411) - categorical, includes missing data and unseen data as a category \n",
    "- weight (29982) - continuous, lbs\n",
    "- rating (82) - integer, out of 10\n",
    "- rented for (10) - categorical, includes missing data and unseen data as a category \n",
    "- body type (14637) - categorical, missing data changed to 'not provided'\n",
    "- height (677) - continuous, in inches, NaN remained unfilled (might be a good idea to fill it with random sample)\n",
    "- age (960) - integer, fill NaN's with median"
   ]
  },
  {
   "cell_type": "code",
   "execution_count": 31,
   "metadata": {},
   "outputs": [
    {
     "data": {
      "text/plain": [
       "array([[<AxesSubplot:xlabel='user_id', ylabel='user_id'>,\n",
       "        <AxesSubplot:xlabel='item_id', ylabel='user_id'>,\n",
       "        <AxesSubplot:xlabel='weight', ylabel='user_id'>,\n",
       "        <AxesSubplot:xlabel='rating', ylabel='user_id'>,\n",
       "        <AxesSubplot:xlabel='height', ylabel='user_id'>,\n",
       "        <AxesSubplot:xlabel='size', ylabel='user_id'>,\n",
       "        <AxesSubplot:xlabel='age', ylabel='user_id'>],\n",
       "       [<AxesSubplot:xlabel='user_id', ylabel='item_id'>,\n",
       "        <AxesSubplot:xlabel='item_id', ylabel='item_id'>,\n",
       "        <AxesSubplot:xlabel='weight', ylabel='item_id'>,\n",
       "        <AxesSubplot:xlabel='rating', ylabel='item_id'>,\n",
       "        <AxesSubplot:xlabel='height', ylabel='item_id'>,\n",
       "        <AxesSubplot:xlabel='size', ylabel='item_id'>,\n",
       "        <AxesSubplot:xlabel='age', ylabel='item_id'>],\n",
       "       [<AxesSubplot:xlabel='user_id', ylabel='weight'>,\n",
       "        <AxesSubplot:xlabel='item_id', ylabel='weight'>,\n",
       "        <AxesSubplot:xlabel='weight', ylabel='weight'>,\n",
       "        <AxesSubplot:xlabel='rating', ylabel='weight'>,\n",
       "        <AxesSubplot:xlabel='height', ylabel='weight'>,\n",
       "        <AxesSubplot:xlabel='size', ylabel='weight'>,\n",
       "        <AxesSubplot:xlabel='age', ylabel='weight'>],\n",
       "       [<AxesSubplot:xlabel='user_id', ylabel='rating'>,\n",
       "        <AxesSubplot:xlabel='item_id', ylabel='rating'>,\n",
       "        <AxesSubplot:xlabel='weight', ylabel='rating'>,\n",
       "        <AxesSubplot:xlabel='rating', ylabel='rating'>,\n",
       "        <AxesSubplot:xlabel='height', ylabel='rating'>,\n",
       "        <AxesSubplot:xlabel='size', ylabel='rating'>,\n",
       "        <AxesSubplot:xlabel='age', ylabel='rating'>],\n",
       "       [<AxesSubplot:xlabel='user_id', ylabel='height'>,\n",
       "        <AxesSubplot:xlabel='item_id', ylabel='height'>,\n",
       "        <AxesSubplot:xlabel='weight', ylabel='height'>,\n",
       "        <AxesSubplot:xlabel='rating', ylabel='height'>,\n",
       "        <AxesSubplot:xlabel='height', ylabel='height'>,\n",
       "        <AxesSubplot:xlabel='size', ylabel='height'>,\n",
       "        <AxesSubplot:xlabel='age', ylabel='height'>],\n",
       "       [<AxesSubplot:xlabel='user_id', ylabel='size'>,\n",
       "        <AxesSubplot:xlabel='item_id', ylabel='size'>,\n",
       "        <AxesSubplot:xlabel='weight', ylabel='size'>,\n",
       "        <AxesSubplot:xlabel='rating', ylabel='size'>,\n",
       "        <AxesSubplot:xlabel='height', ylabel='size'>,\n",
       "        <AxesSubplot:xlabel='size', ylabel='size'>,\n",
       "        <AxesSubplot:xlabel='age', ylabel='size'>],\n",
       "       [<AxesSubplot:xlabel='user_id', ylabel='age'>,\n",
       "        <AxesSubplot:xlabel='item_id', ylabel='age'>,\n",
       "        <AxesSubplot:xlabel='weight', ylabel='age'>,\n",
       "        <AxesSubplot:xlabel='rating', ylabel='age'>,\n",
       "        <AxesSubplot:xlabel='height', ylabel='age'>,\n",
       "        <AxesSubplot:xlabel='size', ylabel='age'>,\n",
       "        <AxesSubplot:xlabel='age', ylabel='age'>]], dtype=object)"
      ]
     },
     "execution_count": 31,
     "metadata": {},
     "output_type": "execute_result"
    },
    {
     "data": {
      "image/png": "[encoded data removed]",
      "text/plain": [
       "<Figure size 432x288 with 49 Axes>"
      ]
     },
     "metadata": {
      "needs_background": "light"
     },
     "output_type": "display_data"
    }
   ],
   "source": [
    "# TODO: correlation analysis\n",
    "pd.plotting.scatter_matrix(features)"
   ]
  },
  {
   "cell_type": "code",
   "execution_count": null,
   "metadata": {},
   "outputs": [],
   "source": [
    "#TODO: describe the predictive task in the context of EDA findings \n",
    "#TODO: define baseline model "
   ]
  },
  {
   "cell_type": "markdown",
   "metadata": {},
   "source": [
    "- Turned categorical value into numerical representation \n",
    "- Normalized or scaled feature values  "
   ]
  }
 ],
 "metadata": {
  "interpreter": {
   "hash": "05b2047bbb01b463baa3b940fa7f2dc164ab60ae737f86aefab00aa7984063a1"
  },
  "kernelspec": {
   "display_name": "Python 3 (ipykernel)",
   "language": "python",
   "name": "python3"
  },
  "language_info": {
   "codemirror_mode": {
    "name": "ipython",
    "version": 3
   },
   "file_extension": ".py",
   "mimetype": "text/x-python",
   "name": "python",
   "nbconvert_exporter": "python",
   "pygments_lexer": "ipython3",
   "version": "3.8.12"
  }
 },
 "nbformat": 4,
 "nbformat_minor": 2
}
